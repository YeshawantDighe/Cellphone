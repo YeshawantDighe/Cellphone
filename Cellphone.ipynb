{
 "cells": [
  {
   "cell_type": "code",
   "execution_count": 1,
   "id": "6f9a3a69",
   "metadata": {},
   "outputs": [],
   "source": [
    "import pandas as pd\n",
    "import numpy as np\n",
    "import seaborn as sns\n",
    "import matplotlib.pyplot as plt\n",
    "\n",
    "from scipy.stats import boxcox\n",
    "from sklearn.model_selection import train_test_split\n",
    "\n",
    "from sklearn.linear_model import LinearRegression\n"
   ]
  },
  {
   "cell_type": "markdown",
   "id": "24fea1d7",
   "metadata": {},
   "source": [
    "# 1. Problem Statement"
   ]
  },
  {
   "cell_type": "markdown",
   "id": "ff9de317",
   "metadata": {},
   "source": [
    "Mobile price depends on various factors such as resolution, brand, size, weight, imaging quality, RAM, battery and cpu power. In this dataset, we want to estimate the price of mobile phones using the above features."
   ]
  },
  {
   "cell_type": "markdown",
   "id": "00511102",
   "metadata": {},
   "source": [
    "# 2. Data Gathering"
   ]
  },
  {
   "cell_type": "code",
   "execution_count": 16,
   "id": "3a4fb5a4",
   "metadata": {},
   "outputs": [
    {
     "data": {
      "text/html": [
       "<div>\n",
       "<style scoped>\n",
       "    .dataframe tbody tr th:only-of-type {\n",
       "        vertical-align: middle;\n",
       "    }\n",
       "\n",
       "    .dataframe tbody tr th {\n",
       "        vertical-align: top;\n",
       "    }\n",
       "\n",
       "    .dataframe thead th {\n",
       "        text-align: right;\n",
       "    }\n",
       "</style>\n",
       "<table border=\"1\" class=\"dataframe\">\n",
       "  <thead>\n",
       "    <tr style=\"text-align: right;\">\n",
       "      <th></th>\n",
       "      <th>Product_id</th>\n",
       "      <th>Price</th>\n",
       "      <th>Sale</th>\n",
       "      <th>weight</th>\n",
       "      <th>resoloution</th>\n",
       "      <th>ppi</th>\n",
       "      <th>cpu core</th>\n",
       "      <th>cpu freq</th>\n",
       "      <th>internal mem</th>\n",
       "      <th>ram</th>\n",
       "      <th>RearCam</th>\n",
       "      <th>Front_Cam</th>\n",
       "      <th>battery</th>\n",
       "      <th>thickness</th>\n",
       "    </tr>\n",
       "  </thead>\n",
       "  <tbody>\n",
       "    <tr>\n",
       "      <th>0</th>\n",
       "      <td>203</td>\n",
       "      <td>2357</td>\n",
       "      <td>10</td>\n",
       "      <td>135.0</td>\n",
       "      <td>5.20</td>\n",
       "      <td>424</td>\n",
       "      <td>8</td>\n",
       "      <td>1.350</td>\n",
       "      <td>16.0</td>\n",
       "      <td>3.000</td>\n",
       "      <td>13.00</td>\n",
       "      <td>8.0</td>\n",
       "      <td>2610</td>\n",
       "      <td>7.4</td>\n",
       "    </tr>\n",
       "    <tr>\n",
       "      <th>1</th>\n",
       "      <td>880</td>\n",
       "      <td>1749</td>\n",
       "      <td>10</td>\n",
       "      <td>125.0</td>\n",
       "      <td>4.00</td>\n",
       "      <td>233</td>\n",
       "      <td>2</td>\n",
       "      <td>1.300</td>\n",
       "      <td>4.0</td>\n",
       "      <td>1.000</td>\n",
       "      <td>3.15</td>\n",
       "      <td>0.0</td>\n",
       "      <td>1700</td>\n",
       "      <td>9.9</td>\n",
       "    </tr>\n",
       "    <tr>\n",
       "      <th>2</th>\n",
       "      <td>40</td>\n",
       "      <td>1916</td>\n",
       "      <td>10</td>\n",
       "      <td>110.0</td>\n",
       "      <td>4.70</td>\n",
       "      <td>312</td>\n",
       "      <td>4</td>\n",
       "      <td>1.200</td>\n",
       "      <td>8.0</td>\n",
       "      <td>1.500</td>\n",
       "      <td>13.00</td>\n",
       "      <td>5.0</td>\n",
       "      <td>2000</td>\n",
       "      <td>7.6</td>\n",
       "    </tr>\n",
       "    <tr>\n",
       "      <th>3</th>\n",
       "      <td>99</td>\n",
       "      <td>1315</td>\n",
       "      <td>11</td>\n",
       "      <td>118.5</td>\n",
       "      <td>4.00</td>\n",
       "      <td>233</td>\n",
       "      <td>2</td>\n",
       "      <td>1.300</td>\n",
       "      <td>4.0</td>\n",
       "      <td>0.512</td>\n",
       "      <td>3.15</td>\n",
       "      <td>0.0</td>\n",
       "      <td>1400</td>\n",
       "      <td>11.0</td>\n",
       "    </tr>\n",
       "    <tr>\n",
       "      <th>4</th>\n",
       "      <td>880</td>\n",
       "      <td>1749</td>\n",
       "      <td>11</td>\n",
       "      <td>125.0</td>\n",
       "      <td>4.00</td>\n",
       "      <td>233</td>\n",
       "      <td>2</td>\n",
       "      <td>1.300</td>\n",
       "      <td>4.0</td>\n",
       "      <td>1.000</td>\n",
       "      <td>3.15</td>\n",
       "      <td>0.0</td>\n",
       "      <td>1700</td>\n",
       "      <td>9.9</td>\n",
       "    </tr>\n",
       "    <tr>\n",
       "      <th>...</th>\n",
       "      <td>...</td>\n",
       "      <td>...</td>\n",
       "      <td>...</td>\n",
       "      <td>...</td>\n",
       "      <td>...</td>\n",
       "      <td>...</td>\n",
       "      <td>...</td>\n",
       "      <td>...</td>\n",
       "      <td>...</td>\n",
       "      <td>...</td>\n",
       "      <td>...</td>\n",
       "      <td>...</td>\n",
       "      <td>...</td>\n",
       "      <td>...</td>\n",
       "    </tr>\n",
       "    <tr>\n",
       "      <th>156</th>\n",
       "      <td>1206</td>\n",
       "      <td>3551</td>\n",
       "      <td>4638</td>\n",
       "      <td>178.0</td>\n",
       "      <td>5.46</td>\n",
       "      <td>538</td>\n",
       "      <td>4</td>\n",
       "      <td>1.875</td>\n",
       "      <td>128.0</td>\n",
       "      <td>6.000</td>\n",
       "      <td>12.00</td>\n",
       "      <td>16.0</td>\n",
       "      <td>4080</td>\n",
       "      <td>8.4</td>\n",
       "    </tr>\n",
       "    <tr>\n",
       "      <th>157</th>\n",
       "      <td>1296</td>\n",
       "      <td>3211</td>\n",
       "      <td>8016</td>\n",
       "      <td>170.0</td>\n",
       "      <td>5.50</td>\n",
       "      <td>534</td>\n",
       "      <td>4</td>\n",
       "      <td>1.975</td>\n",
       "      <td>128.0</td>\n",
       "      <td>6.000</td>\n",
       "      <td>20.00</td>\n",
       "      <td>8.0</td>\n",
       "      <td>3400</td>\n",
       "      <td>7.9</td>\n",
       "    </tr>\n",
       "    <tr>\n",
       "      <th>158</th>\n",
       "      <td>856</td>\n",
       "      <td>3260</td>\n",
       "      <td>8809</td>\n",
       "      <td>150.0</td>\n",
       "      <td>5.50</td>\n",
       "      <td>401</td>\n",
       "      <td>8</td>\n",
       "      <td>2.200</td>\n",
       "      <td>64.0</td>\n",
       "      <td>4.000</td>\n",
       "      <td>20.00</td>\n",
       "      <td>20.0</td>\n",
       "      <td>3000</td>\n",
       "      <td>6.8</td>\n",
       "    </tr>\n",
       "    <tr>\n",
       "      <th>159</th>\n",
       "      <td>1296</td>\n",
       "      <td>3211</td>\n",
       "      <td>8946</td>\n",
       "      <td>170.0</td>\n",
       "      <td>5.50</td>\n",
       "      <td>534</td>\n",
       "      <td>4</td>\n",
       "      <td>1.975</td>\n",
       "      <td>128.0</td>\n",
       "      <td>6.000</td>\n",
       "      <td>20.00</td>\n",
       "      <td>8.0</td>\n",
       "      <td>3400</td>\n",
       "      <td>7.9</td>\n",
       "    </tr>\n",
       "    <tr>\n",
       "      <th>160</th>\n",
       "      <td>1131</td>\n",
       "      <td>2536</td>\n",
       "      <td>9807</td>\n",
       "      <td>202.0</td>\n",
       "      <td>6.00</td>\n",
       "      <td>367</td>\n",
       "      <td>8</td>\n",
       "      <td>1.500</td>\n",
       "      <td>16.0</td>\n",
       "      <td>3.000</td>\n",
       "      <td>21.50</td>\n",
       "      <td>16.0</td>\n",
       "      <td>2700</td>\n",
       "      <td>8.4</td>\n",
       "    </tr>\n",
       "  </tbody>\n",
       "</table>\n",
       "<p>161 rows × 14 columns</p>\n",
       "</div>"
      ],
      "text/plain": [
       "     Product_id  Price  Sale  weight  resoloution  ppi  cpu core  cpu freq  \\\n",
       "0           203   2357    10   135.0         5.20  424         8     1.350   \n",
       "1           880   1749    10   125.0         4.00  233         2     1.300   \n",
       "2            40   1916    10   110.0         4.70  312         4     1.200   \n",
       "3            99   1315    11   118.5         4.00  233         2     1.300   \n",
       "4           880   1749    11   125.0         4.00  233         2     1.300   \n",
       "..          ...    ...   ...     ...          ...  ...       ...       ...   \n",
       "156        1206   3551  4638   178.0         5.46  538         4     1.875   \n",
       "157        1296   3211  8016   170.0         5.50  534         4     1.975   \n",
       "158         856   3260  8809   150.0         5.50  401         8     2.200   \n",
       "159        1296   3211  8946   170.0         5.50  534         4     1.975   \n",
       "160        1131   2536  9807   202.0         6.00  367         8     1.500   \n",
       "\n",
       "     internal mem    ram  RearCam  Front_Cam  battery  thickness  \n",
       "0            16.0  3.000    13.00        8.0     2610        7.4  \n",
       "1             4.0  1.000     3.15        0.0     1700        9.9  \n",
       "2             8.0  1.500    13.00        5.0     2000        7.6  \n",
       "3             4.0  0.512     3.15        0.0     1400       11.0  \n",
       "4             4.0  1.000     3.15        0.0     1700        9.9  \n",
       "..            ...    ...      ...        ...      ...        ...  \n",
       "156         128.0  6.000    12.00       16.0     4080        8.4  \n",
       "157         128.0  6.000    20.00        8.0     3400        7.9  \n",
       "158          64.0  4.000    20.00       20.0     3000        6.8  \n",
       "159         128.0  6.000    20.00        8.0     3400        7.9  \n",
       "160          16.0  3.000    21.50       16.0     2700        8.4  \n",
       "\n",
       "[161 rows x 14 columns]"
      ]
     },
     "execution_count": 16,
     "metadata": {},
     "output_type": "execute_result"
    }
   ],
   "source": [
    "df = pd.read_csv(\"Cellphone.csv\")\n",
    "df"
   ]
  },
  {
   "cell_type": "code",
   "execution_count": null,
   "id": "7901576b",
   "metadata": {},
   "outputs": [],
   "source": []
  },
  {
   "cell_type": "markdown",
   "id": "91213f12",
   "metadata": {},
   "source": [
    "# 3. EDA"
   ]
  },
  {
   "cell_type": "code",
   "execution_count": 3,
   "id": "de2d9722",
   "metadata": {},
   "outputs": [
    {
     "data": {
      "text/plain": [
       "(161, 14)"
      ]
     },
     "execution_count": 3,
     "metadata": {},
     "output_type": "execute_result"
    }
   ],
   "source": [
    "df.shape"
   ]
  },
  {
   "cell_type": "code",
   "execution_count": 4,
   "id": "9799835e",
   "metadata": {},
   "outputs": [
    {
     "name": "stdout",
     "output_type": "stream",
     "text": [
      "<class 'pandas.core.frame.DataFrame'>\n",
      "RangeIndex: 161 entries, 0 to 160\n",
      "Data columns (total 14 columns):\n",
      " #   Column        Non-Null Count  Dtype  \n",
      "---  ------        --------------  -----  \n",
      " 0   Product_id    161 non-null    int64  \n",
      " 1   Price         161 non-null    int64  \n",
      " 2   Sale          161 non-null    int64  \n",
      " 3   weight        161 non-null    float64\n",
      " 4   resoloution   161 non-null    float64\n",
      " 5   ppi           161 non-null    int64  \n",
      " 6   cpu core      161 non-null    int64  \n",
      " 7   cpu freq      161 non-null    float64\n",
      " 8   internal mem  161 non-null    float64\n",
      " 9   ram           161 non-null    float64\n",
      " 10  RearCam       161 non-null    float64\n",
      " 11  Front_Cam     161 non-null    float64\n",
      " 12  battery       161 non-null    int64  \n",
      " 13  thickness     161 non-null    float64\n",
      "dtypes: float64(8), int64(6)\n",
      "memory usage: 17.7 KB\n"
     ]
    }
   ],
   "source": [
    "df.info()"
   ]
  },
  {
   "cell_type": "code",
   "execution_count": 5,
   "id": "53475733",
   "metadata": {},
   "outputs": [
    {
     "data": {
      "text/plain": [
       "Index(['Product_id', 'Price', 'Sale', 'weight', 'resoloution', 'ppi',\n",
       "       'cpu core', 'cpu freq', 'internal mem', 'ram', 'RearCam', 'Front_Cam',\n",
       "       'battery', 'thickness'],\n",
       "      dtype='object')"
      ]
     },
     "execution_count": 5,
     "metadata": {},
     "output_type": "execute_result"
    }
   ],
   "source": [
    "df.columns"
   ]
  },
  {
   "cell_type": "code",
   "execution_count": 6,
   "id": "03515484",
   "metadata": {},
   "outputs": [],
   "source": [
    "df.rename({'cpu core':'cpu_core','cpu freq':'cpu_freq','internal mem':'internal_mem'}, axis=1, inplace = True)"
   ]
  },
  {
   "cell_type": "code",
   "execution_count": 7,
   "id": "596f6343",
   "metadata": {},
   "outputs": [
    {
     "data": {
      "text/html": [
       "<div>\n",
       "<style scoped>\n",
       "    .dataframe tbody tr th:only-of-type {\n",
       "        vertical-align: middle;\n",
       "    }\n",
       "\n",
       "    .dataframe tbody tr th {\n",
       "        vertical-align: top;\n",
       "    }\n",
       "\n",
       "    .dataframe thead th {\n",
       "        text-align: right;\n",
       "    }\n",
       "</style>\n",
       "<table border=\"1\" class=\"dataframe\">\n",
       "  <thead>\n",
       "    <tr style=\"text-align: right;\">\n",
       "      <th></th>\n",
       "      <th>Product_id</th>\n",
       "      <th>Price</th>\n",
       "      <th>Sale</th>\n",
       "      <th>weight</th>\n",
       "      <th>resoloution</th>\n",
       "      <th>ppi</th>\n",
       "      <th>cpu_core</th>\n",
       "      <th>cpu_freq</th>\n",
       "      <th>internal_mem</th>\n",
       "      <th>ram</th>\n",
       "      <th>RearCam</th>\n",
       "      <th>Front_Cam</th>\n",
       "      <th>battery</th>\n",
       "      <th>thickness</th>\n",
       "    </tr>\n",
       "  </thead>\n",
       "  <tbody>\n",
       "    <tr>\n",
       "      <th>count</th>\n",
       "      <td>161.000000</td>\n",
       "      <td>161.000000</td>\n",
       "      <td>161.000000</td>\n",
       "      <td>161.000000</td>\n",
       "      <td>161.000000</td>\n",
       "      <td>161.000000</td>\n",
       "      <td>161.000000</td>\n",
       "      <td>161.000000</td>\n",
       "      <td>161.000000</td>\n",
       "      <td>161.000000</td>\n",
       "      <td>161.000000</td>\n",
       "      <td>161.000000</td>\n",
       "      <td>161.000000</td>\n",
       "      <td>161.000000</td>\n",
       "    </tr>\n",
       "    <tr>\n",
       "      <th>mean</th>\n",
       "      <td>675.559006</td>\n",
       "      <td>2215.596273</td>\n",
       "      <td>621.465839</td>\n",
       "      <td>170.426087</td>\n",
       "      <td>5.209938</td>\n",
       "      <td>335.055901</td>\n",
       "      <td>4.857143</td>\n",
       "      <td>1.502832</td>\n",
       "      <td>24.501714</td>\n",
       "      <td>2.204994</td>\n",
       "      <td>10.378261</td>\n",
       "      <td>4.503106</td>\n",
       "      <td>2842.111801</td>\n",
       "      <td>8.921739</td>\n",
       "    </tr>\n",
       "    <tr>\n",
       "      <th>std</th>\n",
       "      <td>410.851583</td>\n",
       "      <td>768.187171</td>\n",
       "      <td>1546.618517</td>\n",
       "      <td>92.888612</td>\n",
       "      <td>1.509953</td>\n",
       "      <td>134.826659</td>\n",
       "      <td>2.444016</td>\n",
       "      <td>0.599783</td>\n",
       "      <td>28.804773</td>\n",
       "      <td>1.609831</td>\n",
       "      <td>6.181585</td>\n",
       "      <td>4.342053</td>\n",
       "      <td>1366.990838</td>\n",
       "      <td>2.192564</td>\n",
       "    </tr>\n",
       "    <tr>\n",
       "      <th>min</th>\n",
       "      <td>10.000000</td>\n",
       "      <td>614.000000</td>\n",
       "      <td>10.000000</td>\n",
       "      <td>66.000000</td>\n",
       "      <td>1.400000</td>\n",
       "      <td>121.000000</td>\n",
       "      <td>0.000000</td>\n",
       "      <td>0.000000</td>\n",
       "      <td>0.000000</td>\n",
       "      <td>0.000000</td>\n",
       "      <td>0.000000</td>\n",
       "      <td>0.000000</td>\n",
       "      <td>800.000000</td>\n",
       "      <td>5.100000</td>\n",
       "    </tr>\n",
       "    <tr>\n",
       "      <th>25%</th>\n",
       "      <td>237.000000</td>\n",
       "      <td>1734.000000</td>\n",
       "      <td>37.000000</td>\n",
       "      <td>134.100000</td>\n",
       "      <td>4.800000</td>\n",
       "      <td>233.000000</td>\n",
       "      <td>4.000000</td>\n",
       "      <td>1.200000</td>\n",
       "      <td>8.000000</td>\n",
       "      <td>1.000000</td>\n",
       "      <td>5.000000</td>\n",
       "      <td>0.000000</td>\n",
       "      <td>2040.000000</td>\n",
       "      <td>7.600000</td>\n",
       "    </tr>\n",
       "    <tr>\n",
       "      <th>50%</th>\n",
       "      <td>774.000000</td>\n",
       "      <td>2258.000000</td>\n",
       "      <td>106.000000</td>\n",
       "      <td>153.000000</td>\n",
       "      <td>5.150000</td>\n",
       "      <td>294.000000</td>\n",
       "      <td>4.000000</td>\n",
       "      <td>1.400000</td>\n",
       "      <td>16.000000</td>\n",
       "      <td>2.000000</td>\n",
       "      <td>12.000000</td>\n",
       "      <td>5.000000</td>\n",
       "      <td>2800.000000</td>\n",
       "      <td>8.400000</td>\n",
       "    </tr>\n",
       "    <tr>\n",
       "      <th>75%</th>\n",
       "      <td>1026.000000</td>\n",
       "      <td>2744.000000</td>\n",
       "      <td>382.000000</td>\n",
       "      <td>170.000000</td>\n",
       "      <td>5.500000</td>\n",
       "      <td>428.000000</td>\n",
       "      <td>8.000000</td>\n",
       "      <td>1.875000</td>\n",
       "      <td>32.000000</td>\n",
       "      <td>3.000000</td>\n",
       "      <td>16.000000</td>\n",
       "      <td>8.000000</td>\n",
       "      <td>3240.000000</td>\n",
       "      <td>9.800000</td>\n",
       "    </tr>\n",
       "    <tr>\n",
       "      <th>max</th>\n",
       "      <td>1339.000000</td>\n",
       "      <td>4361.000000</td>\n",
       "      <td>9807.000000</td>\n",
       "      <td>753.000000</td>\n",
       "      <td>12.200000</td>\n",
       "      <td>806.000000</td>\n",
       "      <td>8.000000</td>\n",
       "      <td>2.700000</td>\n",
       "      <td>128.000000</td>\n",
       "      <td>6.000000</td>\n",
       "      <td>23.000000</td>\n",
       "      <td>20.000000</td>\n",
       "      <td>9500.000000</td>\n",
       "      <td>18.500000</td>\n",
       "    </tr>\n",
       "  </tbody>\n",
       "</table>\n",
       "</div>"
      ],
      "text/plain": [
       "        Product_id        Price         Sale      weight  resoloution  \\\n",
       "count   161.000000   161.000000   161.000000  161.000000   161.000000   \n",
       "mean    675.559006  2215.596273   621.465839  170.426087     5.209938   \n",
       "std     410.851583   768.187171  1546.618517   92.888612     1.509953   \n",
       "min      10.000000   614.000000    10.000000   66.000000     1.400000   \n",
       "25%     237.000000  1734.000000    37.000000  134.100000     4.800000   \n",
       "50%     774.000000  2258.000000   106.000000  153.000000     5.150000   \n",
       "75%    1026.000000  2744.000000   382.000000  170.000000     5.500000   \n",
       "max    1339.000000  4361.000000  9807.000000  753.000000    12.200000   \n",
       "\n",
       "              ppi    cpu_core    cpu_freq  internal_mem         ram  \\\n",
       "count  161.000000  161.000000  161.000000    161.000000  161.000000   \n",
       "mean   335.055901    4.857143    1.502832     24.501714    2.204994   \n",
       "std    134.826659    2.444016    0.599783     28.804773    1.609831   \n",
       "min    121.000000    0.000000    0.000000      0.000000    0.000000   \n",
       "25%    233.000000    4.000000    1.200000      8.000000    1.000000   \n",
       "50%    294.000000    4.000000    1.400000     16.000000    2.000000   \n",
       "75%    428.000000    8.000000    1.875000     32.000000    3.000000   \n",
       "max    806.000000    8.000000    2.700000    128.000000    6.000000   \n",
       "\n",
       "          RearCam   Front_Cam      battery   thickness  \n",
       "count  161.000000  161.000000   161.000000  161.000000  \n",
       "mean    10.378261    4.503106  2842.111801    8.921739  \n",
       "std      6.181585    4.342053  1366.990838    2.192564  \n",
       "min      0.000000    0.000000   800.000000    5.100000  \n",
       "25%      5.000000    0.000000  2040.000000    7.600000  \n",
       "50%     12.000000    5.000000  2800.000000    8.400000  \n",
       "75%     16.000000    8.000000  3240.000000    9.800000  \n",
       "max     23.000000   20.000000  9500.000000   18.500000  "
      ]
     },
     "execution_count": 7,
     "metadata": {},
     "output_type": "execute_result"
    }
   ],
   "source": [
    "df.describe()"
   ]
  },
  {
   "cell_type": "code",
   "execution_count": 8,
   "id": "907179dd",
   "metadata": {},
   "outputs": [
    {
     "data": {
      "text/plain": [
       "Product_id      0\n",
       "Price           0\n",
       "Sale            0\n",
       "weight          0\n",
       "resoloution     0\n",
       "ppi             0\n",
       "cpu_core        0\n",
       "cpu_freq        0\n",
       "internal_mem    0\n",
       "ram             0\n",
       "RearCam         0\n",
       "Front_Cam       0\n",
       "battery         0\n",
       "thickness       0\n",
       "dtype: int64"
      ]
     },
     "execution_count": 8,
     "metadata": {},
     "output_type": "execute_result"
    }
   ],
   "source": [
    "df.isna().sum()"
   ]
  },
  {
   "cell_type": "code",
   "execution_count": 9,
   "id": "3c643962",
   "metadata": {},
   "outputs": [
    {
     "data": {
      "text/plain": [
       "<AxesSubplot: >"
      ]
     },
     "execution_count": 9,
     "metadata": {},
     "output_type": "execute_result"
    },
    {
     "data": {
      "image/png": "[encoded data removed]",
      "text/plain": [
       "<Figure size 864x288 with 1 Axes>"
      ]
     },
     "metadata": {
      "needs_background": "light"
     },
     "output_type": "display_data"
    }
   ],
   "source": [
    "plt.figure(figsize = (12,4))\n",
    "df.boxplot()"
   ]
  },
  {
   "cell_type": "markdown",
   "id": "255da0a5",
   "metadata": {},
   "source": [
    "# 4. Feature Engineering"
   ]
  },
  {
   "cell_type": "code",
   "execution_count": 10,
   "id": "771443ed",
   "metadata": {},
   "outputs": [
    {
     "data": {
      "text/plain": [
       "<AxesSubplot: xlabel='Sale', ylabel='Density'>"
      ]
     },
     "execution_count": 10,
     "metadata": {},
     "output_type": "execute_result"
    },
    {
     "data": {
      "image/png": "[encoded data removed]",
      "text/plain": [
       "<Figure size 432x288 with 1 Axes>"
      ]
     },
     "metadata": {
      "needs_background": "light"
     },
     "output_type": "display_data"
    }
   ],
   "source": [
    "sns.kdeplot(df[\"Sale\"])"
   ]
  },
  {
   "cell_type": "code",
   "execution_count": 11,
   "id": "951b5005",
   "metadata": {},
   "outputs": [
    {
     "data": {
      "text/plain": [
       "<AxesSubplot: >"
      ]
     },
     "execution_count": 11,
     "metadata": {},
     "output_type": "execute_result"
    },
    {
     "data": {
      "image/png": "[encoded data removed]",
      "text/plain": [
       "<Figure size 432x288 with 1 Axes>"
      ]
     },
     "metadata": {
      "needs_background": "light"
     },
     "output_type": "display_data"
    }
   ],
   "source": [
    "sns.boxplot(x = boxcox(df[\"Sale\"])[0])"
   ]
  },
  {
   "cell_type": "code",
   "execution_count": 12,
   "id": "777768ef",
   "metadata": {},
   "outputs": [],
   "source": [
    "df[\"Sale\"] = boxcox(x = df[\"Sale\"])[0]"
   ]
  },
  {
   "cell_type": "code",
   "execution_count": 13,
   "id": "a18b4e40",
   "metadata": {},
   "outputs": [
    {
     "data": {
      "text/plain": [
       "<AxesSubplot: xlabel='Sale', ylabel='Density'>"
      ]
     },
     "execution_count": 13,
     "metadata": {},
     "output_type": "execute_result"
    },
    {
     "data": {
      "image/png": "[encoded data removed]",
      "text/plain": [
       "<Figure size 432x288 with 1 Axes>"
      ]
     },
     "metadata": {
      "needs_background": "light"
     },
     "output_type": "display_data"
    }
   ],
   "source": [
    "sns.kdeplot(df[\"Sale\"])"
   ]
  },
  {
   "cell_type": "code",
   "execution_count": 14,
   "id": "568fe979",
   "metadata": {},
   "outputs": [
    {
     "data": {
      "text/plain": [
       "<AxesSubplot: xlabel='Sale'>"
      ]
     },
     "execution_count": 14,
     "metadata": {},
     "output_type": "execute_result"
    },
    {
     "data": {
      "image/png": "[encoded data removed]",
      "text/plain": [
       "<Figure size 432x288 with 1 Axes>"
      ]
     },
     "metadata": {
      "needs_background": "light"
     },
     "output_type": "display_data"
    }
   ],
   "source": [
    "sns.boxenplot(x = df[\"Sale\"])"
   ]
  },
  {
   "cell_type": "code",
   "execution_count": 15,
   "id": "6b33e788",
   "metadata": {},
   "outputs": [
    {
     "data": {
      "text/plain": [
       "5.393412132091954"
      ]
     },
     "execution_count": 15,
     "metadata": {},
     "output_type": "execute_result"
    }
   ],
   "source": [
    "q1 = df['Sale'].quantile(0.25)\n",
    "q3 = df['Sale'].quantile(0.75)\n",
    "iqr = q3 - q1\n",
    "lower_tail = q1 - 1.5 * iqr\n",
    "upper_tail = q3 + 1.5 * iqr\n",
    "upper_tail"
   ]
  },
  {
   "cell_type": "code",
   "execution_count": 57,
   "id": "35e5bd91",
   "metadata": {},
   "outputs": [
    {
     "data": {
      "text/html": [
       "<div>\n",
       "<style scoped>\n",
       "    .dataframe tbody tr th:only-of-type {\n",
       "        vertical-align: middle;\n",
       "    }\n",
       "\n",
       "    .dataframe tbody tr th {\n",
       "        vertical-align: top;\n",
       "    }\n",
       "\n",
       "    .dataframe thead th {\n",
       "        text-align: right;\n",
       "    }\n",
       "</style>\n",
       "<table border=\"1\" class=\"dataframe\">\n",
       "  <thead>\n",
       "    <tr style=\"text-align: right;\">\n",
       "      <th></th>\n",
       "      <th>Product_id</th>\n",
       "      <th>Price</th>\n",
       "      <th>Sale</th>\n",
       "      <th>weight</th>\n",
       "      <th>resoloution</th>\n",
       "      <th>ppi</th>\n",
       "      <th>cpu core</th>\n",
       "      <th>cpu freq</th>\n",
       "      <th>internal mem</th>\n",
       "      <th>ram</th>\n",
       "      <th>RearCam</th>\n",
       "      <th>Front_Cam</th>\n",
       "      <th>battery</th>\n",
       "      <th>thickness</th>\n",
       "    </tr>\n",
       "  </thead>\n",
       "  <tbody>\n",
       "    <tr>\n",
       "      <th>137</th>\n",
       "      <td>857</td>\n",
       "      <td>3116</td>\n",
       "      <td>996</td>\n",
       "      <td>153.0</td>\n",
       "      <td>5.50</td>\n",
       "      <td>401</td>\n",
       "      <td>8</td>\n",
       "      <td>1.500</td>\n",
       "      <td>64.000</td>\n",
       "      <td>4.000</td>\n",
       "      <td>13.0</td>\n",
       "      <td>16.0</td>\n",
       "      <td>3200</td>\n",
       "      <td>7.3</td>\n",
       "    </tr>\n",
       "    <tr>\n",
       "      <th>138</th>\n",
       "      <td>377</td>\n",
       "      <td>2409</td>\n",
       "      <td>1009</td>\n",
       "      <td>160.0</td>\n",
       "      <td>5.00</td>\n",
       "      <td>441</td>\n",
       "      <td>4</td>\n",
       "      <td>2.300</td>\n",
       "      <td>32.000</td>\n",
       "      <td>2.000</td>\n",
       "      <td>4.0</td>\n",
       "      <td>5.0</td>\n",
       "      <td>2600</td>\n",
       "      <td>9.4</td>\n",
       "    </tr>\n",
       "    <tr>\n",
       "      <th>139</th>\n",
       "      <td>377</td>\n",
       "      <td>2409</td>\n",
       "      <td>1043</td>\n",
       "      <td>160.0</td>\n",
       "      <td>5.00</td>\n",
       "      <td>441</td>\n",
       "      <td>4</td>\n",
       "      <td>2.300</td>\n",
       "      <td>32.000</td>\n",
       "      <td>2.000</td>\n",
       "      <td>4.0</td>\n",
       "      <td>5.0</td>\n",
       "      <td>2600</td>\n",
       "      <td>9.4</td>\n",
       "    </tr>\n",
       "    <tr>\n",
       "      <th>140</th>\n",
       "      <td>701</td>\n",
       "      <td>628</td>\n",
       "      <td>1224</td>\n",
       "      <td>102.9</td>\n",
       "      <td>2.20</td>\n",
       "      <td>128</td>\n",
       "      <td>0</td>\n",
       "      <td>0.000</td>\n",
       "      <td>0.256</td>\n",
       "      <td>0.128</td>\n",
       "      <td>1.3</td>\n",
       "      <td>0.0</td>\n",
       "      <td>950</td>\n",
       "      <td>18.5</td>\n",
       "    </tr>\n",
       "    <tr>\n",
       "      <th>141</th>\n",
       "      <td>701</td>\n",
       "      <td>628</td>\n",
       "      <td>1274</td>\n",
       "      <td>102.9</td>\n",
       "      <td>2.20</td>\n",
       "      <td>128</td>\n",
       "      <td>0</td>\n",
       "      <td>0.000</td>\n",
       "      <td>0.256</td>\n",
       "      <td>0.128</td>\n",
       "      <td>1.3</td>\n",
       "      <td>0.0</td>\n",
       "      <td>950</td>\n",
       "      <td>18.5</td>\n",
       "    </tr>\n",
       "    <tr>\n",
       "      <th>142</th>\n",
       "      <td>1161</td>\n",
       "      <td>2508</td>\n",
       "      <td>1530</td>\n",
       "      <td>152.0</td>\n",
       "      <td>5.20</td>\n",
       "      <td>424</td>\n",
       "      <td>4</td>\n",
       "      <td>2.500</td>\n",
       "      <td>16.000</td>\n",
       "      <td>3.000</td>\n",
       "      <td>20.7</td>\n",
       "      <td>2.2</td>\n",
       "      <td>3100</td>\n",
       "      <td>7.3</td>\n",
       "    </tr>\n",
       "    <tr>\n",
       "      <th>143</th>\n",
       "      <td>1161</td>\n",
       "      <td>2508</td>\n",
       "      <td>1584</td>\n",
       "      <td>152.0</td>\n",
       "      <td>5.20</td>\n",
       "      <td>424</td>\n",
       "      <td>4</td>\n",
       "      <td>2.500</td>\n",
       "      <td>16.000</td>\n",
       "      <td>3.000</td>\n",
       "      <td>20.7</td>\n",
       "      <td>2.2</td>\n",
       "      <td>3100</td>\n",
       "      <td>7.3</td>\n",
       "    </tr>\n",
       "    <tr>\n",
       "      <th>144</th>\n",
       "      <td>32</td>\n",
       "      <td>1921</td>\n",
       "      <td>1781</td>\n",
       "      <td>179.0</td>\n",
       "      <td>6.00</td>\n",
       "      <td>184</td>\n",
       "      <td>4</td>\n",
       "      <td>1.300</td>\n",
       "      <td>8.000</td>\n",
       "      <td>1.000</td>\n",
       "      <td>13.0</td>\n",
       "      <td>8.0</td>\n",
       "      <td>2580</td>\n",
       "      <td>8.0</td>\n",
       "    </tr>\n",
       "    <tr>\n",
       "      <th>145</th>\n",
       "      <td>32</td>\n",
       "      <td>1921</td>\n",
       "      <td>1862</td>\n",
       "      <td>179.0</td>\n",
       "      <td>6.00</td>\n",
       "      <td>184</td>\n",
       "      <td>4</td>\n",
       "      <td>1.300</td>\n",
       "      <td>8.000</td>\n",
       "      <td>1.000</td>\n",
       "      <td>13.0</td>\n",
       "      <td>8.0</td>\n",
       "      <td>2580</td>\n",
       "      <td>8.0</td>\n",
       "    </tr>\n",
       "    <tr>\n",
       "      <th>146</th>\n",
       "      <td>1137</td>\n",
       "      <td>3102</td>\n",
       "      <td>2071</td>\n",
       "      <td>180.0</td>\n",
       "      <td>5.50</td>\n",
       "      <td>806</td>\n",
       "      <td>8</td>\n",
       "      <td>1.750</td>\n",
       "      <td>32.000</td>\n",
       "      <td>3.000</td>\n",
       "      <td>23.0</td>\n",
       "      <td>5.1</td>\n",
       "      <td>3430</td>\n",
       "      <td>7.8</td>\n",
       "    </tr>\n",
       "    <tr>\n",
       "      <th>147</th>\n",
       "      <td>1137</td>\n",
       "      <td>3102</td>\n",
       "      <td>2088</td>\n",
       "      <td>180.0</td>\n",
       "      <td>5.50</td>\n",
       "      <td>806</td>\n",
       "      <td>8</td>\n",
       "      <td>1.750</td>\n",
       "      <td>32.000</td>\n",
       "      <td>3.000</td>\n",
       "      <td>23.0</td>\n",
       "      <td>5.1</td>\n",
       "      <td>3430</td>\n",
       "      <td>7.8</td>\n",
       "    </tr>\n",
       "    <tr>\n",
       "      <th>148</th>\n",
       "      <td>851</td>\n",
       "      <td>3055</td>\n",
       "      <td>2106</td>\n",
       "      <td>158.0</td>\n",
       "      <td>5.50</td>\n",
       "      <td>401</td>\n",
       "      <td>4</td>\n",
       "      <td>1.875</td>\n",
       "      <td>64.000</td>\n",
       "      <td>6.000</td>\n",
       "      <td>16.0</td>\n",
       "      <td>8.0</td>\n",
       "      <td>3000</td>\n",
       "      <td>7.4</td>\n",
       "    </tr>\n",
       "    <tr>\n",
       "      <th>149</th>\n",
       "      <td>826</td>\n",
       "      <td>614</td>\n",
       "      <td>2159</td>\n",
       "      <td>69.8</td>\n",
       "      <td>1.40</td>\n",
       "      <td>129</td>\n",
       "      <td>0</td>\n",
       "      <td>0.000</td>\n",
       "      <td>0.000</td>\n",
       "      <td>0.004</td>\n",
       "      <td>0.0</td>\n",
       "      <td>0.0</td>\n",
       "      <td>800</td>\n",
       "      <td>14.1</td>\n",
       "    </tr>\n",
       "    <tr>\n",
       "      <th>150</th>\n",
       "      <td>826</td>\n",
       "      <td>614</td>\n",
       "      <td>2171</td>\n",
       "      <td>69.8</td>\n",
       "      <td>1.40</td>\n",
       "      <td>129</td>\n",
       "      <td>0</td>\n",
       "      <td>0.000</td>\n",
       "      <td>0.000</td>\n",
       "      <td>0.004</td>\n",
       "      <td>0.0</td>\n",
       "      <td>0.0</td>\n",
       "      <td>800</td>\n",
       "      <td>14.1</td>\n",
       "    </tr>\n",
       "    <tr>\n",
       "      <th>151</th>\n",
       "      <td>851</td>\n",
       "      <td>3055</td>\n",
       "      <td>2173</td>\n",
       "      <td>158.0</td>\n",
       "      <td>5.50</td>\n",
       "      <td>401</td>\n",
       "      <td>4</td>\n",
       "      <td>1.875</td>\n",
       "      <td>64.000</td>\n",
       "      <td>6.000</td>\n",
       "      <td>16.0</td>\n",
       "      <td>8.0</td>\n",
       "      <td>3000</td>\n",
       "      <td>7.4</td>\n",
       "    </tr>\n",
       "    <tr>\n",
       "      <th>152</th>\n",
       "      <td>290</td>\n",
       "      <td>4361</td>\n",
       "      <td>3248</td>\n",
       "      <td>238.0</td>\n",
       "      <td>5.70</td>\n",
       "      <td>515</td>\n",
       "      <td>8</td>\n",
       "      <td>1.950</td>\n",
       "      <td>128.000</td>\n",
       "      <td>6.000</td>\n",
       "      <td>12.0</td>\n",
       "      <td>8.0</td>\n",
       "      <td>7000</td>\n",
       "      <td>7.4</td>\n",
       "    </tr>\n",
       "    <tr>\n",
       "      <th>153</th>\n",
       "      <td>290</td>\n",
       "      <td>4361</td>\n",
       "      <td>3291</td>\n",
       "      <td>238.0</td>\n",
       "      <td>5.70</td>\n",
       "      <td>515</td>\n",
       "      <td>8</td>\n",
       "      <td>1.950</td>\n",
       "      <td>128.000</td>\n",
       "      <td>6.000</td>\n",
       "      <td>12.0</td>\n",
       "      <td>8.0</td>\n",
       "      <td>7000</td>\n",
       "      <td>7.4</td>\n",
       "    </tr>\n",
       "    <tr>\n",
       "      <th>154</th>\n",
       "      <td>1131</td>\n",
       "      <td>2536</td>\n",
       "      <td>3619</td>\n",
       "      <td>202.0</td>\n",
       "      <td>6.00</td>\n",
       "      <td>367</td>\n",
       "      <td>8</td>\n",
       "      <td>1.500</td>\n",
       "      <td>16.000</td>\n",
       "      <td>3.000</td>\n",
       "      <td>21.5</td>\n",
       "      <td>16.0</td>\n",
       "      <td>2700</td>\n",
       "      <td>8.4</td>\n",
       "    </tr>\n",
       "    <tr>\n",
       "      <th>155</th>\n",
       "      <td>1206</td>\n",
       "      <td>3551</td>\n",
       "      <td>4408</td>\n",
       "      <td>178.0</td>\n",
       "      <td>5.46</td>\n",
       "      <td>538</td>\n",
       "      <td>4</td>\n",
       "      <td>1.875</td>\n",
       "      <td>128.000</td>\n",
       "      <td>6.000</td>\n",
       "      <td>12.0</td>\n",
       "      <td>16.0</td>\n",
       "      <td>4080</td>\n",
       "      <td>8.4</td>\n",
       "    </tr>\n",
       "    <tr>\n",
       "      <th>156</th>\n",
       "      <td>1206</td>\n",
       "      <td>3551</td>\n",
       "      <td>4638</td>\n",
       "      <td>178.0</td>\n",
       "      <td>5.46</td>\n",
       "      <td>538</td>\n",
       "      <td>4</td>\n",
       "      <td>1.875</td>\n",
       "      <td>128.000</td>\n",
       "      <td>6.000</td>\n",
       "      <td>12.0</td>\n",
       "      <td>16.0</td>\n",
       "      <td>4080</td>\n",
       "      <td>8.4</td>\n",
       "    </tr>\n",
       "    <tr>\n",
       "      <th>157</th>\n",
       "      <td>1296</td>\n",
       "      <td>3211</td>\n",
       "      <td>8016</td>\n",
       "      <td>170.0</td>\n",
       "      <td>5.50</td>\n",
       "      <td>534</td>\n",
       "      <td>4</td>\n",
       "      <td>1.975</td>\n",
       "      <td>128.000</td>\n",
       "      <td>6.000</td>\n",
       "      <td>20.0</td>\n",
       "      <td>8.0</td>\n",
       "      <td>3400</td>\n",
       "      <td>7.9</td>\n",
       "    </tr>\n",
       "    <tr>\n",
       "      <th>158</th>\n",
       "      <td>856</td>\n",
       "      <td>3260</td>\n",
       "      <td>8809</td>\n",
       "      <td>150.0</td>\n",
       "      <td>5.50</td>\n",
       "      <td>401</td>\n",
       "      <td>8</td>\n",
       "      <td>2.200</td>\n",
       "      <td>64.000</td>\n",
       "      <td>4.000</td>\n",
       "      <td>20.0</td>\n",
       "      <td>20.0</td>\n",
       "      <td>3000</td>\n",
       "      <td>6.8</td>\n",
       "    </tr>\n",
       "    <tr>\n",
       "      <th>159</th>\n",
       "      <td>1296</td>\n",
       "      <td>3211</td>\n",
       "      <td>8946</td>\n",
       "      <td>170.0</td>\n",
       "      <td>5.50</td>\n",
       "      <td>534</td>\n",
       "      <td>4</td>\n",
       "      <td>1.975</td>\n",
       "      <td>128.000</td>\n",
       "      <td>6.000</td>\n",
       "      <td>20.0</td>\n",
       "      <td>8.0</td>\n",
       "      <td>3400</td>\n",
       "      <td>7.9</td>\n",
       "    </tr>\n",
       "    <tr>\n",
       "      <th>160</th>\n",
       "      <td>1131</td>\n",
       "      <td>2536</td>\n",
       "      <td>9807</td>\n",
       "      <td>202.0</td>\n",
       "      <td>6.00</td>\n",
       "      <td>367</td>\n",
       "      <td>8</td>\n",
       "      <td>1.500</td>\n",
       "      <td>16.000</td>\n",
       "      <td>3.000</td>\n",
       "      <td>21.5</td>\n",
       "      <td>16.0</td>\n",
       "      <td>2700</td>\n",
       "      <td>8.4</td>\n",
       "    </tr>\n",
       "  </tbody>\n",
       "</table>\n",
       "</div>"
      ],
      "text/plain": [
       "     Product_id  Price  Sale  weight  resoloution  ppi  cpu core  cpu freq  \\\n",
       "137         857   3116   996   153.0         5.50  401         8     1.500   \n",
       "138         377   2409  1009   160.0         5.00  441         4     2.300   \n",
       "139         377   2409  1043   160.0         5.00  441         4     2.300   \n",
       "140         701    628  1224   102.9         2.20  128         0     0.000   \n",
       "141         701    628  1274   102.9         2.20  128         0     0.000   \n",
       "142        1161   2508  1530   152.0         5.20  424         4     2.500   \n",
       "143        1161   2508  1584   152.0         5.20  424         4     2.500   \n",
       "144          32   1921  1781   179.0         6.00  184         4     1.300   \n",
       "145          32   1921  1862   179.0         6.00  184         4     1.300   \n",
       "146        1137   3102  2071   180.0         5.50  806         8     1.750   \n",
       "147        1137   3102  2088   180.0         5.50  806         8     1.750   \n",
       "148         851   3055  2106   158.0         5.50  401         4     1.875   \n",
       "149         826    614  2159    69.8         1.40  129         0     0.000   \n",
       "150         826    614  2171    69.8         1.40  129         0     0.000   \n",
       "151         851   3055  2173   158.0         5.50  401         4     1.875   \n",
       "152         290   4361  3248   238.0         5.70  515         8     1.950   \n",
       "153         290   4361  3291   238.0         5.70  515         8     1.950   \n",
       "154        1131   2536  3619   202.0         6.00  367         8     1.500   \n",
       "155        1206   3551  4408   178.0         5.46  538         4     1.875   \n",
       "156        1206   3551  4638   178.0         5.46  538         4     1.875   \n",
       "157        1296   3211  8016   170.0         5.50  534         4     1.975   \n",
       "158         856   3260  8809   150.0         5.50  401         8     2.200   \n",
       "159        1296   3211  8946   170.0         5.50  534         4     1.975   \n",
       "160        1131   2536  9807   202.0         6.00  367         8     1.500   \n",
       "\n",
       "     internal mem    ram  RearCam  Front_Cam  battery  thickness  \n",
       "137        64.000  4.000     13.0       16.0     3200        7.3  \n",
       "138        32.000  2.000      4.0        5.0     2600        9.4  \n",
       "139        32.000  2.000      4.0        5.0     2600        9.4  \n",
       "140         0.256  0.128      1.3        0.0      950       18.5  \n",
       "141         0.256  0.128      1.3        0.0      950       18.5  \n",
       "142        16.000  3.000     20.7        2.2     3100        7.3  \n",
       "143        16.000  3.000     20.7        2.2     3100        7.3  \n",
       "144         8.000  1.000     13.0        8.0     2580        8.0  \n",
       "145         8.000  1.000     13.0        8.0     2580        8.0  \n",
       "146        32.000  3.000     23.0        5.1     3430        7.8  \n",
       "147        32.000  3.000     23.0        5.1     3430        7.8  \n",
       "148        64.000  6.000     16.0        8.0     3000        7.4  \n",
       "149         0.000  0.004      0.0        0.0      800       14.1  \n",
       "150         0.000  0.004      0.0        0.0      800       14.1  \n",
       "151        64.000  6.000     16.0        8.0     3000        7.4  \n",
       "152       128.000  6.000     12.0        8.0     7000        7.4  \n",
       "153       128.000  6.000     12.0        8.0     7000        7.4  \n",
       "154        16.000  3.000     21.5       16.0     2700        8.4  \n",
       "155       128.000  6.000     12.0       16.0     4080        8.4  \n",
       "156       128.000  6.000     12.0       16.0     4080        8.4  \n",
       "157       128.000  6.000     20.0        8.0     3400        7.9  \n",
       "158        64.000  4.000     20.0       20.0     3000        6.8  \n",
       "159       128.000  6.000     20.0        8.0     3400        7.9  \n",
       "160        16.000  3.000     21.5       16.0     2700        8.4  "
      ]
     },
     "execution_count": 57,
     "metadata": {},
     "output_type": "execute_result"
    }
   ],
   "source": [
    "df.loc[df['Sale'] >= upper_tail]"
   ]
  },
  {
   "cell_type": "code",
   "execution_count": 58,
   "id": "7922f0ed",
   "metadata": {},
   "outputs": [
    {
     "data": {
      "text/html": [
       "<div>\n",
       "<style scoped>\n",
       "    .dataframe tbody tr th:only-of-type {\n",
       "        vertical-align: middle;\n",
       "    }\n",
       "\n",
       "    .dataframe tbody tr th {\n",
       "        vertical-align: top;\n",
       "    }\n",
       "\n",
       "    .dataframe thead th {\n",
       "        text-align: right;\n",
       "    }\n",
       "</style>\n",
       "<table border=\"1\" class=\"dataframe\">\n",
       "  <thead>\n",
       "    <tr style=\"text-align: right;\">\n",
       "      <th></th>\n",
       "      <th>Product_id</th>\n",
       "      <th>Price</th>\n",
       "      <th>Sale</th>\n",
       "      <th>weight</th>\n",
       "      <th>resoloution</th>\n",
       "      <th>ppi</th>\n",
       "      <th>cpu core</th>\n",
       "      <th>cpu freq</th>\n",
       "      <th>internal mem</th>\n",
       "      <th>ram</th>\n",
       "      <th>RearCam</th>\n",
       "      <th>Front_Cam</th>\n",
       "      <th>battery</th>\n",
       "      <th>thickness</th>\n",
       "    </tr>\n",
       "  </thead>\n",
       "  <tbody>\n",
       "  </tbody>\n",
       "</table>\n",
       "</div>"
      ],
      "text/plain": [
       "Empty DataFrame\n",
       "Columns: [Product_id, Price, Sale, weight, resoloution, ppi, cpu core, cpu freq, internal mem, ram, RearCam, Front_Cam, battery, thickness]\n",
       "Index: []"
      ]
     },
     "execution_count": 58,
     "metadata": {},
     "output_type": "execute_result"
    }
   ],
   "source": [
    "df.loc[df['Sale'] <= lower_tail]"
   ]
  },
  {
   "cell_type": "code",
   "execution_count": 59,
   "id": "b6bdcfb5",
   "metadata": {},
   "outputs": [
    {
     "data": {
      "text/plain": [
       "<AxesSubplot: xlabel='Sale'>"
      ]
     },
     "execution_count": 59,
     "metadata": {},
     "output_type": "execute_result"
    },
    {
     "data": {
      "image/png": "[encoded data removed]",
      "text/plain": [
       "<Figure size 640x480 with 1 Axes>"
      ]
     },
     "metadata": {},
     "output_type": "display_data"
    }
   ],
   "source": [
    "df['Sale'] = np.where(df['Sale'] >= upper_tail, upper_tail, df['Sale'])\n",
    "sns.boxplot(x = df['Sale'])"
   ]
  },
  {
   "cell_type": "code",
   "execution_count": 60,
   "id": "2e90d657",
   "metadata": {},
   "outputs": [
    {
     "data": {
      "text/plain": [
       "<AxesSubplot: xlabel='Sale', ylabel='Density'>"
      ]
     },
     "execution_count": 60,
     "metadata": {},
     "output_type": "execute_result"
    },
    {
     "data": {
      "image/png": "[encoded data removed]",
      "text/plain": [
       "<Figure size 640x480 with 1 Axes>"
      ]
     },
     "metadata": {},
     "output_type": "display_data"
    }
   ],
   "source": [
    "sns.kdeplot(df[\"Sale\"])"
   ]
  },
  {
   "cell_type": "code",
   "execution_count": 64,
   "id": "bc3455cf",
   "metadata": {},
   "outputs": [
    {
     "data": {
      "text/plain": [
       "<AxesSubplot: xlabel='Sale'>"
      ]
     },
     "execution_count": 64,
     "metadata": {},
     "output_type": "execute_result"
    },
    {
     "data": {
      "image/png": "[encoded data removed]",
      "text/plain": [
       "<Figure size 640x480 with 1 Axes>"
      ]
     },
     "metadata": {},
     "output_type": "display_data"
    }
   ],
   "source": [
    "sns.boxenplot(x= df[\"Sale\"])"
   ]
  },
  {
   "cell_type": "markdown",
   "id": "9097e5fe",
   "metadata": {},
   "source": [
    "##### weight"
   ]
  },
  {
   "cell_type": "code",
   "execution_count": 70,
   "id": "e248914f",
   "metadata": {},
   "outputs": [
    {
     "name": "stdout",
     "output_type": "stream",
     "text": [
      "<class 'pandas.core.frame.DataFrame'>\n",
      "RangeIndex: 161 entries, 0 to 160\n",
      "Data columns (total 14 columns):\n",
      " #   Column        Non-Null Count  Dtype  \n",
      "---  ------        --------------  -----  \n",
      " 0   Product_id    161 non-null    int64  \n",
      " 1   Price         161 non-null    int64  \n",
      " 2   Sale          161 non-null    float64\n",
      " 3   weight        161 non-null    float64\n",
      " 4   resoloution   161 non-null    float64\n",
      " 5   ppi           161 non-null    int64  \n",
      " 6   cpu core      161 non-null    int64  \n",
      " 7   cpu freq      161 non-null    float64\n",
      " 8   internal mem  161 non-null    float64\n",
      " 9   ram           161 non-null    float64\n",
      " 10  RearCam       161 non-null    float64\n",
      " 11  Front_Cam     161 non-null    float64\n",
      " 12  battery       161 non-null    int64  \n",
      " 13  thickness     161 non-null    float64\n",
      "dtypes: float64(9), int64(5)\n",
      "memory usage: 17.7 KB\n"
     ]
    }
   ],
   "source": [
    "df.info()"
   ]
  },
  {
   "cell_type": "code",
   "execution_count": 71,
   "id": "af1c4e68",
   "metadata": {},
   "outputs": [
    {
     "data": {
      "text/plain": [
       "<AxesSubplot: xlabel='weight'>"
      ]
     },
     "execution_count": 71,
     "metadata": {},
     "output_type": "execute_result"
    },
    {
     "data": {
      "image/png": "[encoded data removed]",
      "text/plain": [
       "<Figure size 640x480 with 1 Axes>"
      ]
     },
     "metadata": {},
     "output_type": "display_data"
    }
   ],
   "source": [
    "sns.boxplot(x = df['weight'])"
   ]
  },
  {
   "cell_type": "code",
   "execution_count": 73,
   "id": "c3b920a6",
   "metadata": {},
   "outputs": [
    {
     "data": {
      "text/plain": [
       "<AxesSubplot: >"
      ]
     },
     "execution_count": 73,
     "metadata": {},
     "output_type": "execute_result"
    },
    {
     "data": {
      "image/png": "[encoded data removed]",
      "text/plain": [
       "<Figure size 640x480 with 1 Axes>"
      ]
     },
     "metadata": {},
     "output_type": "display_data"
    }
   ],
   "source": [
    "sns.boxplot(x = boxcox(df[\"weight\"])[0])"
   ]
  },
  {
   "cell_type": "code",
   "execution_count": 77,
   "id": "1955bac9",
   "metadata": {},
   "outputs": [
    {
     "data": {
      "text/plain": [
       "223.85000000000002"
      ]
     },
     "execution_count": 77,
     "metadata": {},
     "output_type": "execute_result"
    }
   ],
   "source": [
    "q1 = df['weight'].quantile(0.25)\n",
    "q3 = df['weight'].quantile(0.75)\n",
    "iqr = q3 - q1\n",
    "lower_tail = q1 - 1.5 * iqr\n",
    "upper_tail = q3 + 1.5 * iqr\n",
    "upper_tail"
   ]
  },
  {
   "cell_type": "code",
   "execution_count": 78,
   "id": "c9532d9d",
   "metadata": {},
   "outputs": [
    {
     "data": {
      "text/html": [
       "<div>\n",
       "<style scoped>\n",
       "    .dataframe tbody tr th:only-of-type {\n",
       "        vertical-align: middle;\n",
       "    }\n",
       "\n",
       "    .dataframe tbody tr th {\n",
       "        vertical-align: top;\n",
       "    }\n",
       "\n",
       "    .dataframe thead th {\n",
       "        text-align: right;\n",
       "    }\n",
       "</style>\n",
       "<table border=\"1\" class=\"dataframe\">\n",
       "  <thead>\n",
       "    <tr style=\"text-align: right;\">\n",
       "      <th></th>\n",
       "      <th>Product_id</th>\n",
       "      <th>Price</th>\n",
       "      <th>Sale</th>\n",
       "      <th>weight</th>\n",
       "      <th>resoloution</th>\n",
       "      <th>ppi</th>\n",
       "      <th>cpu core</th>\n",
       "      <th>cpu freq</th>\n",
       "      <th>internal mem</th>\n",
       "      <th>ram</th>\n",
       "      <th>RearCam</th>\n",
       "      <th>Front_Cam</th>\n",
       "      <th>battery</th>\n",
       "      <th>thickness</th>\n",
       "    </tr>\n",
       "  </thead>\n",
       "  <tbody>\n",
       "    <tr>\n",
       "      <th>37</th>\n",
       "      <td>662</td>\n",
       "      <td>2124</td>\n",
       "      <td>35.0</td>\n",
       "      <td>489.0</td>\n",
       "      <td>10.1</td>\n",
       "      <td>224</td>\n",
       "      <td>4</td>\n",
       "      <td>2.26</td>\n",
       "      <td>16.0</td>\n",
       "      <td>2.000</td>\n",
       "      <td>5.00</td>\n",
       "      <td>2.0</td>\n",
       "      <td>7400</td>\n",
       "      <td>7.8</td>\n",
       "    </tr>\n",
       "    <tr>\n",
       "      <th>40</th>\n",
       "      <td>662</td>\n",
       "      <td>2124</td>\n",
       "      <td>37.0</td>\n",
       "      <td>489.0</td>\n",
       "      <td>10.1</td>\n",
       "      <td>224</td>\n",
       "      <td>4</td>\n",
       "      <td>2.26</td>\n",
       "      <td>16.0</td>\n",
       "      <td>2.000</td>\n",
       "      <td>5.00</td>\n",
       "      <td>2.0</td>\n",
       "      <td>7400</td>\n",
       "      <td>7.8</td>\n",
       "    </tr>\n",
       "    <tr>\n",
       "      <th>51</th>\n",
       "      <td>43</td>\n",
       "      <td>1347</td>\n",
       "      <td>43.0</td>\n",
       "      <td>260.0</td>\n",
       "      <td>7.0</td>\n",
       "      <td>170</td>\n",
       "      <td>2</td>\n",
       "      <td>1.30</td>\n",
       "      <td>4.0</td>\n",
       "      <td>0.512</td>\n",
       "      <td>2.00</td>\n",
       "      <td>0.0</td>\n",
       "      <td>2820</td>\n",
       "      <td>9.1</td>\n",
       "    </tr>\n",
       "    <tr>\n",
       "      <th>62</th>\n",
       "      <td>43</td>\n",
       "      <td>1347</td>\n",
       "      <td>67.0</td>\n",
       "      <td>260.0</td>\n",
       "      <td>7.0</td>\n",
       "      <td>170</td>\n",
       "      <td>2</td>\n",
       "      <td>1.30</td>\n",
       "      <td>4.0</td>\n",
       "      <td>0.512</td>\n",
       "      <td>2.00</td>\n",
       "      <td>0.0</td>\n",
       "      <td>2820</td>\n",
       "      <td>9.1</td>\n",
       "    </tr>\n",
       "    <tr>\n",
       "      <th>67</th>\n",
       "      <td>56</td>\n",
       "      <td>2044</td>\n",
       "      <td>82.0</td>\n",
       "      <td>310.0</td>\n",
       "      <td>8.0</td>\n",
       "      <td>283</td>\n",
       "      <td>8</td>\n",
       "      <td>2.00</td>\n",
       "      <td>8.0</td>\n",
       "      <td>2.000</td>\n",
       "      <td>5.00</td>\n",
       "      <td>2.0</td>\n",
       "      <td>4060</td>\n",
       "      <td>7.3</td>\n",
       "    </tr>\n",
       "    <tr>\n",
       "      <th>72</th>\n",
       "      <td>56</td>\n",
       "      <td>2044</td>\n",
       "      <td>93.0</td>\n",
       "      <td>310.0</td>\n",
       "      <td>8.0</td>\n",
       "      <td>283</td>\n",
       "      <td>8</td>\n",
       "      <td>2.00</td>\n",
       "      <td>8.0</td>\n",
       "      <td>2.000</td>\n",
       "      <td>5.00</td>\n",
       "      <td>2.0</td>\n",
       "      <td>4060</td>\n",
       "      <td>7.3</td>\n",
       "    </tr>\n",
       "    <tr>\n",
       "      <th>77</th>\n",
       "      <td>66</td>\n",
       "      <td>1396</td>\n",
       "      <td>101.0</td>\n",
       "      <td>279.0</td>\n",
       "      <td>7.0</td>\n",
       "      <td>170</td>\n",
       "      <td>4</td>\n",
       "      <td>1.20</td>\n",
       "      <td>4.0</td>\n",
       "      <td>1.000</td>\n",
       "      <td>3.00</td>\n",
       "      <td>0.0</td>\n",
       "      <td>3240</td>\n",
       "      <td>9.0</td>\n",
       "    </tr>\n",
       "    <tr>\n",
       "      <th>84</th>\n",
       "      <td>237</td>\n",
       "      <td>1646</td>\n",
       "      <td>113.0</td>\n",
       "      <td>404.0</td>\n",
       "      <td>8.0</td>\n",
       "      <td>160</td>\n",
       "      <td>4</td>\n",
       "      <td>1.20</td>\n",
       "      <td>8.0</td>\n",
       "      <td>1.000</td>\n",
       "      <td>5.00</td>\n",
       "      <td>5.0</td>\n",
       "      <td>4500</td>\n",
       "      <td>9.0</td>\n",
       "    </tr>\n",
       "    <tr>\n",
       "      <th>85</th>\n",
       "      <td>66</td>\n",
       "      <td>1396</td>\n",
       "      <td>114.0</td>\n",
       "      <td>279.0</td>\n",
       "      <td>7.0</td>\n",
       "      <td>170</td>\n",
       "      <td>4</td>\n",
       "      <td>1.20</td>\n",
       "      <td>4.0</td>\n",
       "      <td>1.000</td>\n",
       "      <td>3.00</td>\n",
       "      <td>0.0</td>\n",
       "      <td>3240</td>\n",
       "      <td>9.0</td>\n",
       "    </tr>\n",
       "    <tr>\n",
       "      <th>90</th>\n",
       "      <td>237</td>\n",
       "      <td>1646</td>\n",
       "      <td>141.0</td>\n",
       "      <td>404.0</td>\n",
       "      <td>8.0</td>\n",
       "      <td>160</td>\n",
       "      <td>4</td>\n",
       "      <td>1.20</td>\n",
       "      <td>8.0</td>\n",
       "      <td>1.000</td>\n",
       "      <td>5.00</td>\n",
       "      <td>5.0</td>\n",
       "      <td>4500</td>\n",
       "      <td>9.0</td>\n",
       "    </tr>\n",
       "    <tr>\n",
       "      <th>93</th>\n",
       "      <td>1062</td>\n",
       "      <td>1810</td>\n",
       "      <td>164.0</td>\n",
       "      <td>393.0</td>\n",
       "      <td>8.0</td>\n",
       "      <td>189</td>\n",
       "      <td>4</td>\n",
       "      <td>1.20</td>\n",
       "      <td>16.0</td>\n",
       "      <td>1.500</td>\n",
       "      <td>3.15</td>\n",
       "      <td>1.2</td>\n",
       "      <td>4450</td>\n",
       "      <td>9.7</td>\n",
       "    </tr>\n",
       "    <tr>\n",
       "      <th>95</th>\n",
       "      <td>1062</td>\n",
       "      <td>1810</td>\n",
       "      <td>166.0</td>\n",
       "      <td>393.0</td>\n",
       "      <td>8.0</td>\n",
       "      <td>189</td>\n",
       "      <td>4</td>\n",
       "      <td>1.20</td>\n",
       "      <td>16.0</td>\n",
       "      <td>1.500</td>\n",
       "      <td>3.15</td>\n",
       "      <td>1.2</td>\n",
       "      <td>4450</td>\n",
       "      <td>9.7</td>\n",
       "    </tr>\n",
       "    <tr>\n",
       "      <th>127</th>\n",
       "      <td>1112</td>\n",
       "      <td>2491</td>\n",
       "      <td>455.0</td>\n",
       "      <td>753.0</td>\n",
       "      <td>12.2</td>\n",
       "      <td>247</td>\n",
       "      <td>8</td>\n",
       "      <td>1.60</td>\n",
       "      <td>32.0</td>\n",
       "      <td>3.000</td>\n",
       "      <td>8.00</td>\n",
       "      <td>2.0</td>\n",
       "      <td>9500</td>\n",
       "      <td>8.0</td>\n",
       "    </tr>\n",
       "    <tr>\n",
       "      <th>128</th>\n",
       "      <td>1112</td>\n",
       "      <td>2491</td>\n",
       "      <td>456.0</td>\n",
       "      <td>753.0</td>\n",
       "      <td>12.2</td>\n",
       "      <td>247</td>\n",
       "      <td>8</td>\n",
       "      <td>1.60</td>\n",
       "      <td>32.0</td>\n",
       "      <td>3.000</td>\n",
       "      <td>8.00</td>\n",
       "      <td>2.0</td>\n",
       "      <td>9500</td>\n",
       "      <td>8.0</td>\n",
       "    </tr>\n",
       "    <tr>\n",
       "      <th>152</th>\n",
       "      <td>290</td>\n",
       "      <td>4361</td>\n",
       "      <td>899.5</td>\n",
       "      <td>238.0</td>\n",
       "      <td>5.7</td>\n",
       "      <td>515</td>\n",
       "      <td>8</td>\n",
       "      <td>1.95</td>\n",
       "      <td>128.0</td>\n",
       "      <td>6.000</td>\n",
       "      <td>12.00</td>\n",
       "      <td>8.0</td>\n",
       "      <td>7000</td>\n",
       "      <td>7.4</td>\n",
       "    </tr>\n",
       "    <tr>\n",
       "      <th>153</th>\n",
       "      <td>290</td>\n",
       "      <td>4361</td>\n",
       "      <td>899.5</td>\n",
       "      <td>238.0</td>\n",
       "      <td>5.7</td>\n",
       "      <td>515</td>\n",
       "      <td>8</td>\n",
       "      <td>1.95</td>\n",
       "      <td>128.0</td>\n",
       "      <td>6.000</td>\n",
       "      <td>12.00</td>\n",
       "      <td>8.0</td>\n",
       "      <td>7000</td>\n",
       "      <td>7.4</td>\n",
       "    </tr>\n",
       "  </tbody>\n",
       "</table>\n",
       "</div>"
      ],
      "text/plain": [
       "     Product_id  Price   Sale  weight  resoloution  ppi  cpu core  cpu freq  \\\n",
       "37          662   2124   35.0   489.0         10.1  224         4      2.26   \n",
       "40          662   2124   37.0   489.0         10.1  224         4      2.26   \n",
       "51           43   1347   43.0   260.0          7.0  170         2      1.30   \n",
       "62           43   1347   67.0   260.0          7.0  170         2      1.30   \n",
       "67           56   2044   82.0   310.0          8.0  283         8      2.00   \n",
       "72           56   2044   93.0   310.0          8.0  283         8      2.00   \n",
       "77           66   1396  101.0   279.0          7.0  170         4      1.20   \n",
       "84          237   1646  113.0   404.0          8.0  160         4      1.20   \n",
       "85           66   1396  114.0   279.0          7.0  170         4      1.20   \n",
       "90          237   1646  141.0   404.0          8.0  160         4      1.20   \n",
       "93         1062   1810  164.0   393.0          8.0  189         4      1.20   \n",
       "95         1062   1810  166.0   393.0          8.0  189         4      1.20   \n",
       "127        1112   2491  455.0   753.0         12.2  247         8      1.60   \n",
       "128        1112   2491  456.0   753.0         12.2  247         8      1.60   \n",
       "152         290   4361  899.5   238.0          5.7  515         8      1.95   \n",
       "153         290   4361  899.5   238.0          5.7  515         8      1.95   \n",
       "\n",
       "     internal mem    ram  RearCam  Front_Cam  battery  thickness  \n",
       "37           16.0  2.000     5.00        2.0     7400        7.8  \n",
       "40           16.0  2.000     5.00        2.0     7400        7.8  \n",
       "51            4.0  0.512     2.00        0.0     2820        9.1  \n",
       "62            4.0  0.512     2.00        0.0     2820        9.1  \n",
       "67            8.0  2.000     5.00        2.0     4060        7.3  \n",
       "72            8.0  2.000     5.00        2.0     4060        7.3  \n",
       "77            4.0  1.000     3.00        0.0     3240        9.0  \n",
       "84            8.0  1.000     5.00        5.0     4500        9.0  \n",
       "85            4.0  1.000     3.00        0.0     3240        9.0  \n",
       "90            8.0  1.000     5.00        5.0     4500        9.0  \n",
       "93           16.0  1.500     3.15        1.2     4450        9.7  \n",
       "95           16.0  1.500     3.15        1.2     4450        9.7  \n",
       "127          32.0  3.000     8.00        2.0     9500        8.0  \n",
       "128          32.0  3.000     8.00        2.0     9500        8.0  \n",
       "152         128.0  6.000    12.00        8.0     7000        7.4  \n",
       "153         128.0  6.000    12.00        8.0     7000        7.4  "
      ]
     },
     "execution_count": 78,
     "metadata": {},
     "output_type": "execute_result"
    }
   ],
   "source": [
    "df.loc[df['weight'] >= upper_tail]"
   ]
  },
  {
   "cell_type": "code",
   "execution_count": 79,
   "id": "46353316",
   "metadata": {},
   "outputs": [
    {
     "data": {
      "text/html": [
       "<div>\n",
       "<style scoped>\n",
       "    .dataframe tbody tr th:only-of-type {\n",
       "        vertical-align: middle;\n",
       "    }\n",
       "\n",
       "    .dataframe tbody tr th {\n",
       "        vertical-align: top;\n",
       "    }\n",
       "\n",
       "    .dataframe thead th {\n",
       "        text-align: right;\n",
       "    }\n",
       "</style>\n",
       "<table border=\"1\" class=\"dataframe\">\n",
       "  <thead>\n",
       "    <tr style=\"text-align: right;\">\n",
       "      <th></th>\n",
       "      <th>Product_id</th>\n",
       "      <th>Price</th>\n",
       "      <th>Sale</th>\n",
       "      <th>weight</th>\n",
       "      <th>resoloution</th>\n",
       "      <th>ppi</th>\n",
       "      <th>cpu core</th>\n",
       "      <th>cpu freq</th>\n",
       "      <th>internal mem</th>\n",
       "      <th>ram</th>\n",
       "      <th>RearCam</th>\n",
       "      <th>Front_Cam</th>\n",
       "      <th>battery</th>\n",
       "      <th>thickness</th>\n",
       "    </tr>\n",
       "  </thead>\n",
       "  <tbody>\n",
       "    <tr>\n",
       "      <th>81</th>\n",
       "      <td>1026</td>\n",
       "      <td>791</td>\n",
       "      <td>106.0</td>\n",
       "      <td>66.0</td>\n",
       "      <td>1.5</td>\n",
       "      <td>121</td>\n",
       "      <td>1</td>\n",
       "      <td>0.208</td>\n",
       "      <td>0.000</td>\n",
       "      <td>0.004</td>\n",
       "      <td>0.0</td>\n",
       "      <td>0.0</td>\n",
       "      <td>800</td>\n",
       "      <td>13.2</td>\n",
       "    </tr>\n",
       "    <tr>\n",
       "      <th>86</th>\n",
       "      <td>1026</td>\n",
       "      <td>791</td>\n",
       "      <td>114.0</td>\n",
       "      <td>66.0</td>\n",
       "      <td>1.5</td>\n",
       "      <td>121</td>\n",
       "      <td>1</td>\n",
       "      <td>0.208</td>\n",
       "      <td>0.000</td>\n",
       "      <td>0.004</td>\n",
       "      <td>0.0</td>\n",
       "      <td>0.0</td>\n",
       "      <td>800</td>\n",
       "      <td>13.2</td>\n",
       "    </tr>\n",
       "    <tr>\n",
       "      <th>101</th>\n",
       "      <td>827</td>\n",
       "      <td>833</td>\n",
       "      <td>201.0</td>\n",
       "      <td>78.4</td>\n",
       "      <td>2.4</td>\n",
       "      <td>166</td>\n",
       "      <td>0</td>\n",
       "      <td>0.000</td>\n",
       "      <td>0.000</td>\n",
       "      <td>0.008</td>\n",
       "      <td>0.0</td>\n",
       "      <td>0.0</td>\n",
       "      <td>1100</td>\n",
       "      <td>12.9</td>\n",
       "    </tr>\n",
       "    <tr>\n",
       "      <th>105</th>\n",
       "      <td>827</td>\n",
       "      <td>833</td>\n",
       "      <td>213.0</td>\n",
       "      <td>78.4</td>\n",
       "      <td>2.4</td>\n",
       "      <td>166</td>\n",
       "      <td>0</td>\n",
       "      <td>0.000</td>\n",
       "      <td>0.000</td>\n",
       "      <td>0.008</td>\n",
       "      <td>0.0</td>\n",
       "      <td>0.0</td>\n",
       "      <td>1100</td>\n",
       "      <td>12.9</td>\n",
       "    </tr>\n",
       "    <tr>\n",
       "      <th>110</th>\n",
       "      <td>64</td>\n",
       "      <td>754</td>\n",
       "      <td>299.0</td>\n",
       "      <td>77.9</td>\n",
       "      <td>2.4</td>\n",
       "      <td>167</td>\n",
       "      <td>0</td>\n",
       "      <td>0.000</td>\n",
       "      <td>0.004</td>\n",
       "      <td>0.004</td>\n",
       "      <td>0.0</td>\n",
       "      <td>0.0</td>\n",
       "      <td>850</td>\n",
       "      <td>12.4</td>\n",
       "    </tr>\n",
       "    <tr>\n",
       "      <th>113</th>\n",
       "      <td>64</td>\n",
       "      <td>754</td>\n",
       "      <td>308.0</td>\n",
       "      <td>77.9</td>\n",
       "      <td>2.4</td>\n",
       "      <td>167</td>\n",
       "      <td>0</td>\n",
       "      <td>0.000</td>\n",
       "      <td>0.004</td>\n",
       "      <td>0.004</td>\n",
       "      <td>0.0</td>\n",
       "      <td>0.0</td>\n",
       "      <td>850</td>\n",
       "      <td>12.4</td>\n",
       "    </tr>\n",
       "    <tr>\n",
       "      <th>149</th>\n",
       "      <td>826</td>\n",
       "      <td>614</td>\n",
       "      <td>899.5</td>\n",
       "      <td>69.8</td>\n",
       "      <td>1.4</td>\n",
       "      <td>129</td>\n",
       "      <td>0</td>\n",
       "      <td>0.000</td>\n",
       "      <td>0.000</td>\n",
       "      <td>0.004</td>\n",
       "      <td>0.0</td>\n",
       "      <td>0.0</td>\n",
       "      <td>800</td>\n",
       "      <td>14.1</td>\n",
       "    </tr>\n",
       "    <tr>\n",
       "      <th>150</th>\n",
       "      <td>826</td>\n",
       "      <td>614</td>\n",
       "      <td>899.5</td>\n",
       "      <td>69.8</td>\n",
       "      <td>1.4</td>\n",
       "      <td>129</td>\n",
       "      <td>0</td>\n",
       "      <td>0.000</td>\n",
       "      <td>0.000</td>\n",
       "      <td>0.004</td>\n",
       "      <td>0.0</td>\n",
       "      <td>0.0</td>\n",
       "      <td>800</td>\n",
       "      <td>14.1</td>\n",
       "    </tr>\n",
       "  </tbody>\n",
       "</table>\n",
       "</div>"
      ],
      "text/plain": [
       "     Product_id  Price   Sale  weight  resoloution  ppi  cpu core  cpu freq  \\\n",
       "81         1026    791  106.0    66.0          1.5  121         1     0.208   \n",
       "86         1026    791  114.0    66.0          1.5  121         1     0.208   \n",
       "101         827    833  201.0    78.4          2.4  166         0     0.000   \n",
       "105         827    833  213.0    78.4          2.4  166         0     0.000   \n",
       "110          64    754  299.0    77.9          2.4  167         0     0.000   \n",
       "113          64    754  308.0    77.9          2.4  167         0     0.000   \n",
       "149         826    614  899.5    69.8          1.4  129         0     0.000   \n",
       "150         826    614  899.5    69.8          1.4  129         0     0.000   \n",
       "\n",
       "     internal mem    ram  RearCam  Front_Cam  battery  thickness  \n",
       "81          0.000  0.004      0.0        0.0      800       13.2  \n",
       "86          0.000  0.004      0.0        0.0      800       13.2  \n",
       "101         0.000  0.008      0.0        0.0     1100       12.9  \n",
       "105         0.000  0.008      0.0        0.0     1100       12.9  \n",
       "110         0.004  0.004      0.0        0.0      850       12.4  \n",
       "113         0.004  0.004      0.0        0.0      850       12.4  \n",
       "149         0.000  0.004      0.0        0.0      800       14.1  \n",
       "150         0.000  0.004      0.0        0.0      800       14.1  "
      ]
     },
     "execution_count": 79,
     "metadata": {},
     "output_type": "execute_result"
    }
   ],
   "source": [
    "df.loc[df['weight'] <= lower_tail]"
   ]
  },
  {
   "cell_type": "code",
   "execution_count": 80,
   "id": "65a40eaa",
   "metadata": {},
   "outputs": [
    {
     "data": {
      "text/plain": [
       "<AxesSubplot: xlabel='weight'>"
      ]
     },
     "execution_count": 80,
     "metadata": {},
     "output_type": "execute_result"
    },
    {
     "data": {
      "image/png": "[encoded data removed]",
      "text/plain": [
       "<Figure size 640x480 with 1 Axes>"
      ]
     },
     "metadata": {},
     "output_type": "display_data"
    }
   ],
   "source": [
    "df['weight'] = np.where(df['weight'] >= upper_tail, upper_tail, df['weight'])\n",
    "sns.boxplot(x = df['weight'])"
   ]
  },
  {
   "cell_type": "code",
   "execution_count": 81,
   "id": "73378ae4",
   "metadata": {},
   "outputs": [
    {
     "data": {
      "text/plain": [
       "<AxesSubplot: xlabel='weight'>"
      ]
     },
     "execution_count": 81,
     "metadata": {},
     "output_type": "execute_result"
    },
    {
     "data": {
      "image/png": "[encoded data removed]",
      "text/plain": [
       "<Figure size 640x480 with 1 Axes>"
      ]
     },
     "metadata": {},
     "output_type": "display_data"
    }
   ],
   "source": [
    "df['weight'] = np.where(df['weight'] <= lower_tail, lower_tail, df['weight'])\n",
    "sns.boxplot(x = df['weight'])"
   ]
  },
  {
   "cell_type": "markdown",
   "id": "87f35ced",
   "metadata": {},
   "source": [
    "##### resoloution"
   ]
  },
  {
   "cell_type": "code",
   "execution_count": 84,
   "id": "41622a67",
   "metadata": {},
   "outputs": [
    {
     "data": {
      "text/plain": [
       "<AxesSubplot: xlabel='resoloution'>"
      ]
     },
     "execution_count": 84,
     "metadata": {},
     "output_type": "execute_result"
    },
    {
     "data": {
      "image/png": "[encoded data removed]",
      "text/plain": [
       "<Figure size 640x480 with 1 Axes>"
      ]
     },
     "metadata": {},
     "output_type": "display_data"
    }
   ],
   "source": [
    "sns.boxplot(x = df['resoloution'])"
   ]
  },
  {
   "cell_type": "code",
   "execution_count": 85,
   "id": "15e7f336",
   "metadata": {},
   "outputs": [
    {
     "data": {
      "text/plain": [
       "<AxesSubplot: >"
      ]
     },
     "execution_count": 85,
     "metadata": {},
     "output_type": "execute_result"
    },
    {
     "data": {
      "image/png": "[encoded data removed]",
      "text/plain": [
       "<Figure size 640x480 with 1 Axes>"
      ]
     },
     "metadata": {},
     "output_type": "display_data"
    }
   ],
   "source": [
    "sns.boxplot(x = boxcox(df[\"resoloution\"])[0])"
   ]
  },
  {
   "cell_type": "code",
   "execution_count": 86,
   "id": "17a27e6c",
   "metadata": {},
   "outputs": [
    {
     "data": {
      "text/plain": [
       "<AxesSubplot: xlabel='resoloution', ylabel='Density'>"
      ]
     },
     "execution_count": 86,
     "metadata": {},
     "output_type": "execute_result"
    },
    {
     "data": {
      "image/png": "[encoded data removed]",
      "text/plain": [
       "<Figure size 640x480 with 1 Axes>"
      ]
     },
     "metadata": {},
     "output_type": "display_data"
    }
   ],
   "source": [
    "sns.kdeplot(x = df[\"resoloution\"])"
   ]
  },
  {
   "cell_type": "code",
   "execution_count": 88,
   "id": "a77f565a",
   "metadata": {},
   "outputs": [
    {
     "data": {
      "text/plain": [
       "6.550000000000001"
      ]
     },
     "execution_count": 88,
     "metadata": {},
     "output_type": "execute_result"
    }
   ],
   "source": [
    "q1 = df['resoloution'].quantile(0.25)\n",
    "q3 = df['resoloution'].quantile(0.75)\n",
    "iqr = q3 - q1\n",
    "lower_tail = q1 - 1.5 * iqr\n",
    "upper_tail = q3 + 1.5 * iqr\n",
    "upper_tail"
   ]
  },
  {
   "cell_type": "code",
   "execution_count": 89,
   "id": "48ea03c0",
   "metadata": {},
   "outputs": [
    {
     "data": {
      "text/html": [
       "<div>\n",
       "<style scoped>\n",
       "    .dataframe tbody tr th:only-of-type {\n",
       "        vertical-align: middle;\n",
       "    }\n",
       "\n",
       "    .dataframe tbody tr th {\n",
       "        vertical-align: top;\n",
       "    }\n",
       "\n",
       "    .dataframe thead th {\n",
       "        text-align: right;\n",
       "    }\n",
       "</style>\n",
       "<table border=\"1\" class=\"dataframe\">\n",
       "  <thead>\n",
       "    <tr style=\"text-align: right;\">\n",
       "      <th></th>\n",
       "      <th>Product_id</th>\n",
       "      <th>Price</th>\n",
       "      <th>Sale</th>\n",
       "      <th>weight</th>\n",
       "      <th>resoloution</th>\n",
       "      <th>ppi</th>\n",
       "      <th>cpu core</th>\n",
       "      <th>cpu freq</th>\n",
       "      <th>internal mem</th>\n",
       "      <th>ram</th>\n",
       "      <th>RearCam</th>\n",
       "      <th>Front_Cam</th>\n",
       "      <th>battery</th>\n",
       "      <th>thickness</th>\n",
       "    </tr>\n",
       "  </thead>\n",
       "  <tbody>\n",
       "    <tr>\n",
       "      <th>37</th>\n",
       "      <td>662</td>\n",
       "      <td>2124</td>\n",
       "      <td>35.0</td>\n",
       "      <td>223.85</td>\n",
       "      <td>10.1</td>\n",
       "      <td>224</td>\n",
       "      <td>4</td>\n",
       "      <td>2.26</td>\n",
       "      <td>16.0</td>\n",
       "      <td>2.000</td>\n",
       "      <td>5.00</td>\n",
       "      <td>2.0</td>\n",
       "      <td>7400</td>\n",
       "      <td>7.8</td>\n",
       "    </tr>\n",
       "    <tr>\n",
       "      <th>40</th>\n",
       "      <td>662</td>\n",
       "      <td>2124</td>\n",
       "      <td>37.0</td>\n",
       "      <td>223.85</td>\n",
       "      <td>10.1</td>\n",
       "      <td>224</td>\n",
       "      <td>4</td>\n",
       "      <td>2.26</td>\n",
       "      <td>16.0</td>\n",
       "      <td>2.000</td>\n",
       "      <td>5.00</td>\n",
       "      <td>2.0</td>\n",
       "      <td>7400</td>\n",
       "      <td>7.8</td>\n",
       "    </tr>\n",
       "    <tr>\n",
       "      <th>51</th>\n",
       "      <td>43</td>\n",
       "      <td>1347</td>\n",
       "      <td>43.0</td>\n",
       "      <td>223.85</td>\n",
       "      <td>7.0</td>\n",
       "      <td>170</td>\n",
       "      <td>2</td>\n",
       "      <td>1.30</td>\n",
       "      <td>4.0</td>\n",
       "      <td>0.512</td>\n",
       "      <td>2.00</td>\n",
       "      <td>0.0</td>\n",
       "      <td>2820</td>\n",
       "      <td>9.1</td>\n",
       "    </tr>\n",
       "    <tr>\n",
       "      <th>62</th>\n",
       "      <td>43</td>\n",
       "      <td>1347</td>\n",
       "      <td>67.0</td>\n",
       "      <td>223.85</td>\n",
       "      <td>7.0</td>\n",
       "      <td>170</td>\n",
       "      <td>2</td>\n",
       "      <td>1.30</td>\n",
       "      <td>4.0</td>\n",
       "      <td>0.512</td>\n",
       "      <td>2.00</td>\n",
       "      <td>0.0</td>\n",
       "      <td>2820</td>\n",
       "      <td>9.1</td>\n",
       "    </tr>\n",
       "    <tr>\n",
       "      <th>67</th>\n",
       "      <td>56</td>\n",
       "      <td>2044</td>\n",
       "      <td>82.0</td>\n",
       "      <td>223.85</td>\n",
       "      <td>8.0</td>\n",
       "      <td>283</td>\n",
       "      <td>8</td>\n",
       "      <td>2.00</td>\n",
       "      <td>8.0</td>\n",
       "      <td>2.000</td>\n",
       "      <td>5.00</td>\n",
       "      <td>2.0</td>\n",
       "      <td>4060</td>\n",
       "      <td>7.3</td>\n",
       "    </tr>\n",
       "    <tr>\n",
       "      <th>72</th>\n",
       "      <td>56</td>\n",
       "      <td>2044</td>\n",
       "      <td>93.0</td>\n",
       "      <td>223.85</td>\n",
       "      <td>8.0</td>\n",
       "      <td>283</td>\n",
       "      <td>8</td>\n",
       "      <td>2.00</td>\n",
       "      <td>8.0</td>\n",
       "      <td>2.000</td>\n",
       "      <td>5.00</td>\n",
       "      <td>2.0</td>\n",
       "      <td>4060</td>\n",
       "      <td>7.3</td>\n",
       "    </tr>\n",
       "    <tr>\n",
       "      <th>77</th>\n",
       "      <td>66</td>\n",
       "      <td>1396</td>\n",
       "      <td>101.0</td>\n",
       "      <td>223.85</td>\n",
       "      <td>7.0</td>\n",
       "      <td>170</td>\n",
       "      <td>4</td>\n",
       "      <td>1.20</td>\n",
       "      <td>4.0</td>\n",
       "      <td>1.000</td>\n",
       "      <td>3.00</td>\n",
       "      <td>0.0</td>\n",
       "      <td>3240</td>\n",
       "      <td>9.0</td>\n",
       "    </tr>\n",
       "    <tr>\n",
       "      <th>84</th>\n",
       "      <td>237</td>\n",
       "      <td>1646</td>\n",
       "      <td>113.0</td>\n",
       "      <td>223.85</td>\n",
       "      <td>8.0</td>\n",
       "      <td>160</td>\n",
       "      <td>4</td>\n",
       "      <td>1.20</td>\n",
       "      <td>8.0</td>\n",
       "      <td>1.000</td>\n",
       "      <td>5.00</td>\n",
       "      <td>5.0</td>\n",
       "      <td>4500</td>\n",
       "      <td>9.0</td>\n",
       "    </tr>\n",
       "    <tr>\n",
       "      <th>85</th>\n",
       "      <td>66</td>\n",
       "      <td>1396</td>\n",
       "      <td>114.0</td>\n",
       "      <td>223.85</td>\n",
       "      <td>7.0</td>\n",
       "      <td>170</td>\n",
       "      <td>4</td>\n",
       "      <td>1.20</td>\n",
       "      <td>4.0</td>\n",
       "      <td>1.000</td>\n",
       "      <td>3.00</td>\n",
       "      <td>0.0</td>\n",
       "      <td>3240</td>\n",
       "      <td>9.0</td>\n",
       "    </tr>\n",
       "    <tr>\n",
       "      <th>90</th>\n",
       "      <td>237</td>\n",
       "      <td>1646</td>\n",
       "      <td>141.0</td>\n",
       "      <td>223.85</td>\n",
       "      <td>8.0</td>\n",
       "      <td>160</td>\n",
       "      <td>4</td>\n",
       "      <td>1.20</td>\n",
       "      <td>8.0</td>\n",
       "      <td>1.000</td>\n",
       "      <td>5.00</td>\n",
       "      <td>5.0</td>\n",
       "      <td>4500</td>\n",
       "      <td>9.0</td>\n",
       "    </tr>\n",
       "    <tr>\n",
       "      <th>93</th>\n",
       "      <td>1062</td>\n",
       "      <td>1810</td>\n",
       "      <td>164.0</td>\n",
       "      <td>223.85</td>\n",
       "      <td>8.0</td>\n",
       "      <td>189</td>\n",
       "      <td>4</td>\n",
       "      <td>1.20</td>\n",
       "      <td>16.0</td>\n",
       "      <td>1.500</td>\n",
       "      <td>3.15</td>\n",
       "      <td>1.2</td>\n",
       "      <td>4450</td>\n",
       "      <td>9.7</td>\n",
       "    </tr>\n",
       "    <tr>\n",
       "      <th>95</th>\n",
       "      <td>1062</td>\n",
       "      <td>1810</td>\n",
       "      <td>166.0</td>\n",
       "      <td>223.85</td>\n",
       "      <td>8.0</td>\n",
       "      <td>189</td>\n",
       "      <td>4</td>\n",
       "      <td>1.20</td>\n",
       "      <td>16.0</td>\n",
       "      <td>1.500</td>\n",
       "      <td>3.15</td>\n",
       "      <td>1.2</td>\n",
       "      <td>4450</td>\n",
       "      <td>9.7</td>\n",
       "    </tr>\n",
       "    <tr>\n",
       "      <th>127</th>\n",
       "      <td>1112</td>\n",
       "      <td>2491</td>\n",
       "      <td>455.0</td>\n",
       "      <td>223.85</td>\n",
       "      <td>12.2</td>\n",
       "      <td>247</td>\n",
       "      <td>8</td>\n",
       "      <td>1.60</td>\n",
       "      <td>32.0</td>\n",
       "      <td>3.000</td>\n",
       "      <td>8.00</td>\n",
       "      <td>2.0</td>\n",
       "      <td>9500</td>\n",
       "      <td>8.0</td>\n",
       "    </tr>\n",
       "    <tr>\n",
       "      <th>128</th>\n",
       "      <td>1112</td>\n",
       "      <td>2491</td>\n",
       "      <td>456.0</td>\n",
       "      <td>223.85</td>\n",
       "      <td>12.2</td>\n",
       "      <td>247</td>\n",
       "      <td>8</td>\n",
       "      <td>1.60</td>\n",
       "      <td>32.0</td>\n",
       "      <td>3.000</td>\n",
       "      <td>8.00</td>\n",
       "      <td>2.0</td>\n",
       "      <td>9500</td>\n",
       "      <td>8.0</td>\n",
       "    </tr>\n",
       "  </tbody>\n",
       "</table>\n",
       "</div>"
      ],
      "text/plain": [
       "     Product_id  Price   Sale  weight  resoloution  ppi  cpu core  cpu freq  \\\n",
       "37          662   2124   35.0  223.85         10.1  224         4      2.26   \n",
       "40          662   2124   37.0  223.85         10.1  224         4      2.26   \n",
       "51           43   1347   43.0  223.85          7.0  170         2      1.30   \n",
       "62           43   1347   67.0  223.85          7.0  170         2      1.30   \n",
       "67           56   2044   82.0  223.85          8.0  283         8      2.00   \n",
       "72           56   2044   93.0  223.85          8.0  283         8      2.00   \n",
       "77           66   1396  101.0  223.85          7.0  170         4      1.20   \n",
       "84          237   1646  113.0  223.85          8.0  160         4      1.20   \n",
       "85           66   1396  114.0  223.85          7.0  170         4      1.20   \n",
       "90          237   1646  141.0  223.85          8.0  160         4      1.20   \n",
       "93         1062   1810  164.0  223.85          8.0  189         4      1.20   \n",
       "95         1062   1810  166.0  223.85          8.0  189         4      1.20   \n",
       "127        1112   2491  455.0  223.85         12.2  247         8      1.60   \n",
       "128        1112   2491  456.0  223.85         12.2  247         8      1.60   \n",
       "\n",
       "     internal mem    ram  RearCam  Front_Cam  battery  thickness  \n",
       "37           16.0  2.000     5.00        2.0     7400        7.8  \n",
       "40           16.0  2.000     5.00        2.0     7400        7.8  \n",
       "51            4.0  0.512     2.00        0.0     2820        9.1  \n",
       "62            4.0  0.512     2.00        0.0     2820        9.1  \n",
       "67            8.0  2.000     5.00        2.0     4060        7.3  \n",
       "72            8.0  2.000     5.00        2.0     4060        7.3  \n",
       "77            4.0  1.000     3.00        0.0     3240        9.0  \n",
       "84            8.0  1.000     5.00        5.0     4500        9.0  \n",
       "85            4.0  1.000     3.00        0.0     3240        9.0  \n",
       "90            8.0  1.000     5.00        5.0     4500        9.0  \n",
       "93           16.0  1.500     3.15        1.2     4450        9.7  \n",
       "95           16.0  1.500     3.15        1.2     4450        9.7  \n",
       "127          32.0  3.000     8.00        2.0     9500        8.0  \n",
       "128          32.0  3.000     8.00        2.0     9500        8.0  "
      ]
     },
     "execution_count": 89,
     "metadata": {},
     "output_type": "execute_result"
    }
   ],
   "source": [
    "df.loc[df['resoloution'] >= upper_tail]"
   ]
  },
  {
   "cell_type": "code",
   "execution_count": 90,
   "id": "3a8495fc",
   "metadata": {},
   "outputs": [
    {
     "data": {
      "text/html": [
       "<div>\n",
       "<style scoped>\n",
       "    .dataframe tbody tr th:only-of-type {\n",
       "        vertical-align: middle;\n",
       "    }\n",
       "\n",
       "    .dataframe tbody tr th {\n",
       "        vertical-align: top;\n",
       "    }\n",
       "\n",
       "    .dataframe thead th {\n",
       "        text-align: right;\n",
       "    }\n",
       "</style>\n",
       "<table border=\"1\" class=\"dataframe\">\n",
       "  <thead>\n",
       "    <tr style=\"text-align: right;\">\n",
       "      <th></th>\n",
       "      <th>Product_id</th>\n",
       "      <th>Price</th>\n",
       "      <th>Sale</th>\n",
       "      <th>weight</th>\n",
       "      <th>resoloution</th>\n",
       "      <th>ppi</th>\n",
       "      <th>cpu core</th>\n",
       "      <th>cpu freq</th>\n",
       "      <th>internal mem</th>\n",
       "      <th>ram</th>\n",
       "      <th>RearCam</th>\n",
       "      <th>Front_Cam</th>\n",
       "      <th>battery</th>\n",
       "      <th>thickness</th>\n",
       "    </tr>\n",
       "  </thead>\n",
       "  <tbody>\n",
       "    <tr>\n",
       "      <th>81</th>\n",
       "      <td>1026</td>\n",
       "      <td>791</td>\n",
       "      <td>106.0</td>\n",
       "      <td>80.25</td>\n",
       "      <td>1.5</td>\n",
       "      <td>121</td>\n",
       "      <td>1</td>\n",
       "      <td>0.208</td>\n",
       "      <td>0.000</td>\n",
       "      <td>0.004</td>\n",
       "      <td>0.0</td>\n",
       "      <td>0.0</td>\n",
       "      <td>800</td>\n",
       "      <td>13.2</td>\n",
       "    </tr>\n",
       "    <tr>\n",
       "      <th>86</th>\n",
       "      <td>1026</td>\n",
       "      <td>791</td>\n",
       "      <td>114.0</td>\n",
       "      <td>80.25</td>\n",
       "      <td>1.5</td>\n",
       "      <td>121</td>\n",
       "      <td>1</td>\n",
       "      <td>0.208</td>\n",
       "      <td>0.000</td>\n",
       "      <td>0.004</td>\n",
       "      <td>0.0</td>\n",
       "      <td>0.0</td>\n",
       "      <td>800</td>\n",
       "      <td>13.2</td>\n",
       "    </tr>\n",
       "    <tr>\n",
       "      <th>101</th>\n",
       "      <td>827</td>\n",
       "      <td>833</td>\n",
       "      <td>201.0</td>\n",
       "      <td>80.25</td>\n",
       "      <td>2.4</td>\n",
       "      <td>166</td>\n",
       "      <td>0</td>\n",
       "      <td>0.000</td>\n",
       "      <td>0.000</td>\n",
       "      <td>0.008</td>\n",
       "      <td>0.0</td>\n",
       "      <td>0.0</td>\n",
       "      <td>1100</td>\n",
       "      <td>12.9</td>\n",
       "    </tr>\n",
       "    <tr>\n",
       "      <th>105</th>\n",
       "      <td>827</td>\n",
       "      <td>833</td>\n",
       "      <td>213.0</td>\n",
       "      <td>80.25</td>\n",
       "      <td>2.4</td>\n",
       "      <td>166</td>\n",
       "      <td>0</td>\n",
       "      <td>0.000</td>\n",
       "      <td>0.000</td>\n",
       "      <td>0.008</td>\n",
       "      <td>0.0</td>\n",
       "      <td>0.0</td>\n",
       "      <td>1100</td>\n",
       "      <td>12.9</td>\n",
       "    </tr>\n",
       "    <tr>\n",
       "      <th>110</th>\n",
       "      <td>64</td>\n",
       "      <td>754</td>\n",
       "      <td>299.0</td>\n",
       "      <td>80.25</td>\n",
       "      <td>2.4</td>\n",
       "      <td>167</td>\n",
       "      <td>0</td>\n",
       "      <td>0.000</td>\n",
       "      <td>0.004</td>\n",
       "      <td>0.004</td>\n",
       "      <td>0.0</td>\n",
       "      <td>0.0</td>\n",
       "      <td>850</td>\n",
       "      <td>12.4</td>\n",
       "    </tr>\n",
       "    <tr>\n",
       "      <th>113</th>\n",
       "      <td>64</td>\n",
       "      <td>754</td>\n",
       "      <td>308.0</td>\n",
       "      <td>80.25</td>\n",
       "      <td>2.4</td>\n",
       "      <td>167</td>\n",
       "      <td>0</td>\n",
       "      <td>0.000</td>\n",
       "      <td>0.004</td>\n",
       "      <td>0.004</td>\n",
       "      <td>0.0</td>\n",
       "      <td>0.0</td>\n",
       "      <td>850</td>\n",
       "      <td>12.4</td>\n",
       "    </tr>\n",
       "    <tr>\n",
       "      <th>125</th>\n",
       "      <td>1198</td>\n",
       "      <td>705</td>\n",
       "      <td>423.0</td>\n",
       "      <td>110.00</td>\n",
       "      <td>2.2</td>\n",
       "      <td>128</td>\n",
       "      <td>0</td>\n",
       "      <td>0.000</td>\n",
       "      <td>0.128</td>\n",
       "      <td>0.032</td>\n",
       "      <td>2.0</td>\n",
       "      <td>0.0</td>\n",
       "      <td>900</td>\n",
       "      <td>15.6</td>\n",
       "    </tr>\n",
       "    <tr>\n",
       "      <th>126</th>\n",
       "      <td>1198</td>\n",
       "      <td>705</td>\n",
       "      <td>427.0</td>\n",
       "      <td>110.00</td>\n",
       "      <td>2.2</td>\n",
       "      <td>128</td>\n",
       "      <td>0</td>\n",
       "      <td>0.000</td>\n",
       "      <td>0.128</td>\n",
       "      <td>0.032</td>\n",
       "      <td>2.0</td>\n",
       "      <td>0.0</td>\n",
       "      <td>900</td>\n",
       "      <td>15.6</td>\n",
       "    </tr>\n",
       "    <tr>\n",
       "      <th>140</th>\n",
       "      <td>701</td>\n",
       "      <td>628</td>\n",
       "      <td>899.5</td>\n",
       "      <td>102.90</td>\n",
       "      <td>2.2</td>\n",
       "      <td>128</td>\n",
       "      <td>0</td>\n",
       "      <td>0.000</td>\n",
       "      <td>0.256</td>\n",
       "      <td>0.128</td>\n",
       "      <td>1.3</td>\n",
       "      <td>0.0</td>\n",
       "      <td>950</td>\n",
       "      <td>18.5</td>\n",
       "    </tr>\n",
       "    <tr>\n",
       "      <th>141</th>\n",
       "      <td>701</td>\n",
       "      <td>628</td>\n",
       "      <td>899.5</td>\n",
       "      <td>102.90</td>\n",
       "      <td>2.2</td>\n",
       "      <td>128</td>\n",
       "      <td>0</td>\n",
       "      <td>0.000</td>\n",
       "      <td>0.256</td>\n",
       "      <td>0.128</td>\n",
       "      <td>1.3</td>\n",
       "      <td>0.0</td>\n",
       "      <td>950</td>\n",
       "      <td>18.5</td>\n",
       "    </tr>\n",
       "    <tr>\n",
       "      <th>149</th>\n",
       "      <td>826</td>\n",
       "      <td>614</td>\n",
       "      <td>899.5</td>\n",
       "      <td>80.25</td>\n",
       "      <td>1.4</td>\n",
       "      <td>129</td>\n",
       "      <td>0</td>\n",
       "      <td>0.000</td>\n",
       "      <td>0.000</td>\n",
       "      <td>0.004</td>\n",
       "      <td>0.0</td>\n",
       "      <td>0.0</td>\n",
       "      <td>800</td>\n",
       "      <td>14.1</td>\n",
       "    </tr>\n",
       "    <tr>\n",
       "      <th>150</th>\n",
       "      <td>826</td>\n",
       "      <td>614</td>\n",
       "      <td>899.5</td>\n",
       "      <td>80.25</td>\n",
       "      <td>1.4</td>\n",
       "      <td>129</td>\n",
       "      <td>0</td>\n",
       "      <td>0.000</td>\n",
       "      <td>0.000</td>\n",
       "      <td>0.004</td>\n",
       "      <td>0.0</td>\n",
       "      <td>0.0</td>\n",
       "      <td>800</td>\n",
       "      <td>14.1</td>\n",
       "    </tr>\n",
       "  </tbody>\n",
       "</table>\n",
       "</div>"
      ],
      "text/plain": [
       "     Product_id  Price   Sale  weight  resoloution  ppi  cpu core  cpu freq  \\\n",
       "81         1026    791  106.0   80.25          1.5  121         1     0.208   \n",
       "86         1026    791  114.0   80.25          1.5  121         1     0.208   \n",
       "101         827    833  201.0   80.25          2.4  166         0     0.000   \n",
       "105         827    833  213.0   80.25          2.4  166         0     0.000   \n",
       "110          64    754  299.0   80.25          2.4  167         0     0.000   \n",
       "113          64    754  308.0   80.25          2.4  167         0     0.000   \n",
       "125        1198    705  423.0  110.00          2.2  128         0     0.000   \n",
       "126        1198    705  427.0  110.00          2.2  128         0     0.000   \n",
       "140         701    628  899.5  102.90          2.2  128         0     0.000   \n",
       "141         701    628  899.5  102.90          2.2  128         0     0.000   \n",
       "149         826    614  899.5   80.25          1.4  129         0     0.000   \n",
       "150         826    614  899.5   80.25          1.4  129         0     0.000   \n",
       "\n",
       "     internal mem    ram  RearCam  Front_Cam  battery  thickness  \n",
       "81          0.000  0.004      0.0        0.0      800       13.2  \n",
       "86          0.000  0.004      0.0        0.0      800       13.2  \n",
       "101         0.000  0.008      0.0        0.0     1100       12.9  \n",
       "105         0.000  0.008      0.0        0.0     1100       12.9  \n",
       "110         0.004  0.004      0.0        0.0      850       12.4  \n",
       "113         0.004  0.004      0.0        0.0      850       12.4  \n",
       "125         0.128  0.032      2.0        0.0      900       15.6  \n",
       "126         0.128  0.032      2.0        0.0      900       15.6  \n",
       "140         0.256  0.128      1.3        0.0      950       18.5  \n",
       "141         0.256  0.128      1.3        0.0      950       18.5  \n",
       "149         0.000  0.004      0.0        0.0      800       14.1  \n",
       "150         0.000  0.004      0.0        0.0      800       14.1  "
      ]
     },
     "execution_count": 90,
     "metadata": {},
     "output_type": "execute_result"
    }
   ],
   "source": [
    "df.loc[df['resoloution'] <= lower_tail]"
   ]
  },
  {
   "cell_type": "code",
   "execution_count": 91,
   "id": "784bcd51",
   "metadata": {},
   "outputs": [
    {
     "data": {
      "text/plain": [
       "<AxesSubplot: xlabel='resoloution'>"
      ]
     },
     "execution_count": 91,
     "metadata": {},
     "output_type": "execute_result"
    },
    {
     "data": {
      "image/png": "[encoded data removed]",
      "text/plain": [
       "<Figure size 640x480 with 1 Axes>"
      ]
     },
     "metadata": {},
     "output_type": "display_data"
    }
   ],
   "source": [
    "df['resoloution'] = np.where(df['resoloution'] >= upper_tail, upper_tail, df['resoloution'])\n",
    "sns.boxplot(x = df['resoloution'])"
   ]
  },
  {
   "cell_type": "code",
   "execution_count": 92,
   "id": "1a533f4a",
   "metadata": {},
   "outputs": [
    {
     "data": {
      "text/plain": [
       "<AxesSubplot: xlabel='resoloution'>"
      ]
     },
     "execution_count": 92,
     "metadata": {},
     "output_type": "execute_result"
    },
    {
     "data": {
      "image/png": "[encoded data removed]",
      "text/plain": [
       "<Figure size 640x480 with 1 Axes>"
      ]
     },
     "metadata": {},
     "output_type": "display_data"
    }
   ],
   "source": [
    "df['resoloution'] = np.where(df['resoloution'] <= lower_tail, lower_tail, df['resoloution'])\n",
    "sns.boxplot(x = df['resoloution'])"
   ]
  },
  {
   "cell_type": "code",
   "execution_count": 94,
   "id": "82510a4a",
   "metadata": {},
   "outputs": [
    {
     "data": {
      "text/plain": [
       "<AxesSubplot: >"
      ]
     },
     "execution_count": 94,
     "metadata": {},
     "output_type": "execute_result"
    },
    {
     "data": {
      "image/png": "[encoded data removed]",
      "text/plain": [
       "<Figure size 1200x400 with 1 Axes>"
      ]
     },
     "metadata": {},
     "output_type": "display_data"
    }
   ],
   "source": [
    "plt.figure(figsize= (12,4))\n",
    "df.boxplot()"
   ]
  },
  {
   "cell_type": "markdown",
   "id": "e517dc77",
   "metadata": {},
   "source": [
    "##### ppi"
   ]
  },
  {
   "cell_type": "code",
   "execution_count": 95,
   "id": "bdbbe635",
   "metadata": {},
   "outputs": [
    {
     "data": {
      "text/plain": [
       "<AxesSubplot: >"
      ]
     },
     "execution_count": 95,
     "metadata": {},
     "output_type": "execute_result"
    },
    {
     "data": {
      "image/png": "[encoded data removed]",
      "text/plain": [
       "<Figure size 640x480 with 1 Axes>"
      ]
     },
     "metadata": {},
     "output_type": "display_data"
    }
   ],
   "source": [
    "sns.boxplot(df[\"ppi\"])"
   ]
  },
  {
   "cell_type": "code",
   "execution_count": 96,
   "id": "21adb23c",
   "metadata": {},
   "outputs": [
    {
     "data": {
      "text/plain": [
       "<AxesSubplot: xlabel='ppi', ylabel='Density'>"
      ]
     },
     "execution_count": 96,
     "metadata": {},
     "output_type": "execute_result"
    },
    {
     "data": {
      "image/png": "[encoded data removed]",
      "text/plain": [
       "<Figure size 640x480 with 1 Axes>"
      ]
     },
     "metadata": {},
     "output_type": "display_data"
    }
   ],
   "source": [
    "sns.kdeplot(x = df[\"ppi\"])"
   ]
  },
  {
   "cell_type": "code",
   "execution_count": 97,
   "id": "e6b2e8cc",
   "metadata": {},
   "outputs": [
    {
     "data": {
      "text/plain": [
       "<AxesSubplot: >"
      ]
     },
     "execution_count": 97,
     "metadata": {},
     "output_type": "execute_result"
    },
    {
     "data": {
      "image/png": "[encoded data removed]",
      "text/plain": [
       "<Figure size 640x480 with 1 Axes>"
      ]
     },
     "metadata": {},
     "output_type": "display_data"
    }
   ],
   "source": [
    "sns.boxplot(x = boxcox(df[\"ppi\"])[0])"
   ]
  },
  {
   "cell_type": "code",
   "execution_count": 98,
   "id": "8d3a7efe",
   "metadata": {},
   "outputs": [],
   "source": [
    "df[\"ppi\"] = boxcox(df[\"ppi\"])[0]"
   ]
  },
  {
   "cell_type": "code",
   "execution_count": 100,
   "id": "ab887605",
   "metadata": {},
   "outputs": [
    {
     "data": {
      "text/plain": [
       "<AxesSubplot: >"
      ]
     },
     "execution_count": 100,
     "metadata": {},
     "output_type": "execute_result"
    },
    {
     "data": {
      "image/png": "[encoded data removed]",
      "text/plain": [
       "<Figure size 640x480 with 1 Axes>"
      ]
     },
     "metadata": {},
     "output_type": "display_data"
    }
   ],
   "source": [
    "sns.boxplot(df[\"ppi\"])"
   ]
  },
  {
   "cell_type": "code",
   "execution_count": null,
   "id": "ade8a43c",
   "metadata": {},
   "outputs": [],
   "source": []
  },
  {
   "cell_type": "code",
   "execution_count": null,
   "id": "d65c2926",
   "metadata": {},
   "outputs": [],
   "source": []
  },
  {
   "cell_type": "code",
   "execution_count": null,
   "id": "752b6de3",
   "metadata": {},
   "outputs": [],
   "source": []
  },
  {
   "cell_type": "code",
   "execution_count": null,
   "id": "ed047bf4",
   "metadata": {},
   "outputs": [],
   "source": []
  },
  {
   "cell_type": "code",
   "execution_count": null,
   "id": "1f077786",
   "metadata": {},
   "outputs": [],
   "source": []
  },
  {
   "cell_type": "code",
   "execution_count": null,
   "id": "4bde1925",
   "metadata": {},
   "outputs": [],
   "source": []
  },
  {
   "cell_type": "code",
   "execution_count": null,
   "id": "87d633e3",
   "metadata": {},
   "outputs": [],
   "source": []
  },
  {
   "cell_type": "code",
   "execution_count": null,
   "id": "c3e22b8d",
   "metadata": {},
   "outputs": [],
   "source": []
  },
  {
   "cell_type": "code",
   "execution_count": null,
   "id": "b7529d45",
   "metadata": {},
   "outputs": [],
   "source": []
  },
  {
   "cell_type": "code",
   "execution_count": null,
   "id": "0f66782c",
   "metadata": {},
   "outputs": [],
   "source": []
  },
  {
   "cell_type": "code",
   "execution_count": null,
   "id": "b9a6e8ed",
   "metadata": {},
   "outputs": [],
   "source": []
  },
  {
   "cell_type": "code",
   "execution_count": null,
   "id": "6df470cf",
   "metadata": {},
   "outputs": [],
   "source": []
  },
  {
   "cell_type": "markdown",
   "id": "52f41d4e",
   "metadata": {},
   "source": [
    "# Model Training Without Removing Outliers"
   ]
  },
  {
   "cell_type": "code",
   "execution_count": 66,
   "id": "227b5783",
   "metadata": {},
   "outputs": [],
   "source": [
    "x = df.drop(\"Price\", axis=1)\n",
    "y = df[\"Price\"]\n",
    "x_train, x_test, y_train, y_test =train_test_split(x,y, random_state=22, test_size=0.2)"
   ]
  },
  {
   "cell_type": "code",
   "execution_count": 67,
   "id": "3847e545",
   "metadata": {},
   "outputs": [
    {
     "data": {
      "text/html": [
       "<style>#sk-container-id-1 {color: black;background-color: white;}#sk-container-id-1 pre{padding: 0;}#sk-container-id-1 div.sk-toggleable {background-color: white;}#sk-container-id-1 label.sk-toggleable__label {cursor: pointer;display: block;width: 100%;margin-bottom: 0;padding: 0.3em;box-sizing: border-box;text-align: center;}#sk-container-id-1 label.sk-toggleable__label-arrow:before {content: \"▸\";float: left;margin-right: 0.25em;color: #696969;}#sk-container-id-1 label.sk-toggleable__label-arrow:hover:before {color: black;}#sk-container-id-1 div.sk-estimator:hover label.sk-toggleable__label-arrow:before {color: black;}#sk-container-id-1 div.sk-toggleable__content {max-height: 0;max-width: 0;overflow: hidden;text-align: left;background-color: #f0f8ff;}#sk-container-id-1 div.sk-toggleable__content pre {margin: 0.2em;color: black;border-radius: 0.25em;background-color: #f0f8ff;}#sk-container-id-1 input.sk-toggleable__control:checked~div.sk-toggleable__content {max-height: 200px;max-width: 100%;overflow: auto;}#sk-container-id-1 input.sk-toggleable__control:checked~label.sk-toggleable__label-arrow:before {content: \"▾\";}#sk-container-id-1 div.sk-estimator input.sk-toggleable__control:checked~label.sk-toggleable__label {background-color: #d4ebff;}#sk-container-id-1 div.sk-label input.sk-toggleable__control:checked~label.sk-toggleable__label {background-color: #d4ebff;}#sk-container-id-1 input.sk-hidden--visually {border: 0;clip: rect(1px 1px 1px 1px);clip: rect(1px, 1px, 1px, 1px);height: 1px;margin: -1px;overflow: hidden;padding: 0;position: absolute;width: 1px;}#sk-container-id-1 div.sk-estimator {font-family: monospace;background-color: #f0f8ff;border: 1px dotted black;border-radius: 0.25em;box-sizing: border-box;margin-bottom: 0.5em;}#sk-container-id-1 div.sk-estimator:hover {background-color: #d4ebff;}#sk-container-id-1 div.sk-parallel-item::after {content: \"\";width: 100%;border-bottom: 1px solid gray;flex-grow: 1;}#sk-container-id-1 div.sk-label:hover label.sk-toggleable__label {background-color: #d4ebff;}#sk-container-id-1 div.sk-serial::before {content: \"\";position: absolute;border-left: 1px solid gray;box-sizing: border-box;top: 0;bottom: 0;left: 50%;z-index: 0;}#sk-container-id-1 div.sk-serial {display: flex;flex-direction: column;align-items: center;background-color: white;padding-right: 0.2em;padding-left: 0.2em;position: relative;}#sk-container-id-1 div.sk-item {position: relative;z-index: 1;}#sk-container-id-1 div.sk-parallel {display: flex;align-items: stretch;justify-content: center;background-color: white;position: relative;}#sk-container-id-1 div.sk-item::before, #sk-container-id-1 div.sk-parallel-item::before {content: \"\";position: absolute;border-left: 1px solid gray;box-sizing: border-box;top: 0;bottom: 0;left: 50%;z-index: -1;}#sk-container-id-1 div.sk-parallel-item {display: flex;flex-direction: column;z-index: 1;position: relative;background-color: white;}#sk-container-id-1 div.sk-parallel-item:first-child::after {align-self: flex-end;width: 50%;}#sk-container-id-1 div.sk-parallel-item:last-child::after {align-self: flex-start;width: 50%;}#sk-container-id-1 div.sk-parallel-item:only-child::after {width: 0;}#sk-container-id-1 div.sk-dashed-wrapped {border: 1px dashed gray;margin: 0 0.4em 0.5em 0.4em;box-sizing: border-box;padding-bottom: 0.4em;background-color: white;}#sk-container-id-1 div.sk-label label {font-family: monospace;font-weight: bold;display: inline-block;line-height: 1.2em;}#sk-container-id-1 div.sk-label-container {text-align: center;}#sk-container-id-1 div.sk-container {/* jupyter's `normalize.less` sets `[hidden] { display: none; }` but bootstrap.min.css set `[hidden] { display: none !important; }` so we also need the `!important` here to be able to override the default hidden behavior on the sphinx rendered scikit-learn.org. See: https://github.com/scikit-learn/scikit-learn/issues/21755 */display: inline-block !important;position: relative;}#sk-container-id-1 div.sk-text-repr-fallback {display: none;}</style><div id=\"sk-container-id-1\" class=\"sk-top-container\"><div class=\"sk-text-repr-fallback\"><pre>LinearRegression()</pre><b>In a Jupyter environment, please rerun this cell to show the HTML representation or trust the notebook. <br />On GitHub, the HTML representation is unable to render, please try loading this page with nbviewer.org.</b></div><div class=\"sk-container\" hidden><div class=\"sk-item\"><div class=\"sk-estimator sk-toggleable\"><input class=\"sk-toggleable__control sk-hidden--visually\" id=\"sk-estimator-id-1\" type=\"checkbox\" checked><label for=\"sk-estimator-id-1\" class=\"sk-toggleable__label sk-toggleable__label-arrow\">LinearRegression</label><div class=\"sk-toggleable__content\"><pre>LinearRegression()</pre></div></div></div></div></div>"
      ],
      "text/plain": [
       "LinearRegression()"
      ]
     },
     "execution_count": 67,
     "metadata": {},
     "output_type": "execute_result"
    }
   ],
   "source": [
    "lin_reg = LinearRegression()\n",
    "lin_reg.fit(x_train,y_train)"
   ]
  },
  {
   "cell_type": "code",
   "execution_count": 68,
   "id": "9dda25ad",
   "metadata": {},
   "outputs": [
    {
     "data": {
      "text/plain": [
       "0.9373400551338239"
      ]
     },
     "execution_count": 68,
     "metadata": {},
     "output_type": "execute_result"
    }
   ],
   "source": [
    "lin_reg.score(x_test, y_test)"
   ]
  },
  {
   "cell_type": "code",
   "execution_count": 69,
   "id": "96861d2d",
   "metadata": {},
   "outputs": [
    {
     "data": {
      "text/plain": [
       "0.9543158364833165"
      ]
     },
     "execution_count": 69,
     "metadata": {},
     "output_type": "execute_result"
    }
   ],
   "source": [
    "lin_reg.score(x_train, y_train)"
   ]
  },
  {
   "cell_type": "code",
   "execution_count": null,
   "id": "afe5cdf1",
   "metadata": {},
   "outputs": [],
   "source": []
  }
 ],
 "metadata": {
  "kernelspec": {
   "display_name": "Python 3 (ipykernel)",
   "language": "python",
   "name": "python3"
  },
  "language_info": {
   "codemirror_mode": {
    "name": "ipython",
    "version": 3
   },
   "file_extension": ".py",
   "mimetype": "text/x-python",
   "name": "python",
   "nbconvert_exporter": "python",
   "pygments_lexer": "ipython3",
   "version": "3.10.6"
  }
 },
 "nbformat": 4,
 "nbformat_minor": 5
}
